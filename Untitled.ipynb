{
 "cells": [
  {
   "cell_type": "code",
   "execution_count": 66,
   "id": "0b4636b4",
   "metadata": {
    "ExecuteTime": {
     "end_time": "2022-09-21T12:05:31.101703Z",
     "start_time": "2022-09-21T12:05:31.098976Z"
    }
   },
   "outputs": [],
   "source": [
    "# Votre analyse sous forme de Jupyter Notebook déposé sur votre git en PUBLIC devra contenir:\n",
    "# * Une problématique pertinente (c-a-d ou il est possible de répondre avec des données)\n",
    "# * Au moins 1 diagramme avec données continues, type nuage de point ou histogramme\n",
    "# * Au moins 2 diagrammes avec des données discrètes\n",
    "# * Au moins 3 graphiques avec des données catégoriques\n",
    "# * 1 boîte à moustaches avec filtrage des données aberrantes sur le dataset (si il y en a)\n",
    "# * 1 heat map avec matrice de corrélation (si pertinent)\n",
    "# * Des commentaires clairs et pertinents pour chaque graphiques \n"
   ]
  },
  {
   "cell_type": "code",
   "execution_count": 67,
   "id": "cafc011b",
   "metadata": {
    "ExecuteTime": {
     "end_time": "2022-09-21T12:05:31.277385Z",
     "start_time": "2022-09-21T12:05:31.242655Z"
    }
   },
   "outputs": [
    {
     "name": "stdout",
     "output_type": "stream",
     "text": [
      "<class 'pandas.core.frame.DataFrame'>\n",
      "RangeIndex: 7729 entries, 0 to 7728\n",
      "Data columns (total 17 columns):\n",
      " #   Column                   Non-Null Count  Dtype         \n",
      "---  ------                   --------------  -----         \n",
      " 0   id                       7729 non-null   int64         \n",
      " 1   name                     7312 non-null   object        \n",
      " 2   date                     7729 non-null   datetime64[ns]\n",
      " 3   manner_of_death          7729 non-null   object        \n",
      " 4   armed                    7520 non-null   object        \n",
      " 5   age                      7247 non-null   float64       \n",
      " 6   gender                   7709 non-null   object        \n",
      " 7   race                     6269 non-null   object        \n",
      " 8   city                     7729 non-null   object        \n",
      " 9   state                    7729 non-null   object        \n",
      " 10  signs_of_mental_illness  7729 non-null   bool          \n",
      " 11  threat_level             7729 non-null   object        \n",
      " 12  flee                     6854 non-null   object        \n",
      " 13  body_camera              7729 non-null   bool          \n",
      " 14  longitude                6892 non-null   float64       \n",
      " 15  latitude                 6892 non-null   float64       \n",
      " 16  is_geocoding_exact       7729 non-null   bool          \n",
      "dtypes: bool(3), datetime64[ns](1), float64(3), int64(1), object(9)\n",
      "memory usage: 868.1+ KB\n"
     ]
    }
   ],
   "source": [
    "import pandas as pd\n",
    "import seaborn as sns\n",
    "\n",
    "\n",
    "file = \"/Users/mohamad-alkhatib/Downloads/us.shot.csv\"\n",
    "\n",
    "df = pd.read_csv(file)\n",
    "df.date = pd.to_datetime(df.date)\n",
    "df.info()\n"
   ]
  },
  {
   "cell_type": "code",
   "execution_count": 68,
   "id": "2f5aa364",
   "metadata": {
    "ExecuteTime": {
     "end_time": "2022-09-21T12:08:15.261581Z",
     "start_time": "2022-09-21T12:08:15.241255Z"
    }
   },
   "outputs": [
    {
     "data": {
      "text/plain": [
       "race\n",
       "A     113\n",
       "B    1686\n",
       "H    1128\n",
       "N      97\n",
       "O      47\n",
       "W    3198\n",
       "Name: id, dtype: int64"
      ]
     },
     "execution_count": 68,
     "metadata": {},
     "output_type": "execute_result"
    }
   ],
   "source": [
    "deathRateByState = df.groupby([\"race\"]).count().id;\n",
    "deathRateByState\n"
   ]
  },
  {
   "cell_type": "code",
   "execution_count": null,
   "id": "1c873455",
   "metadata": {},
   "outputs": [],
   "source": []
  }
 ],
 "metadata": {
  "hide_input": false,
  "kernelspec": {
   "display_name": "Python 3 (ipykernel)",
   "language": "python",
   "name": "python3"
  },
  "language_info": {
   "codemirror_mode": {
    "name": "ipython",
    "version": 3
   },
   "file_extension": ".py",
   "mimetype": "text/x-python",
   "name": "python",
   "nbconvert_exporter": "python",
   "pygments_lexer": "ipython3",
   "version": "3.10.6"
  },
  "toc": {
   "base_numbering": 1,
   "nav_menu": {},
   "number_sections": true,
   "sideBar": true,
   "skip_h1_title": false,
   "title_cell": "Table of Contents",
   "title_sidebar": "Contents",
   "toc_cell": false,
   "toc_position": {},
   "toc_section_display": true,
   "toc_window_display": false
  },
  "varInspector": {
   "cols": {
    "lenName": 16,
    "lenType": 16,
    "lenVar": 40
   },
   "kernels_config": {
    "python": {
     "delete_cmd_postfix": "",
     "delete_cmd_prefix": "del ",
     "library": "var_list.py",
     "varRefreshCmd": "print(var_dic_list())"
    },
    "r": {
     "delete_cmd_postfix": ") ",
     "delete_cmd_prefix": "rm(",
     "library": "var_list.r",
     "varRefreshCmd": "cat(var_dic_list()) "
    }
   },
   "types_to_exclude": [
    "module",
    "function",
    "builtin_function_or_method",
    "instance",
    "_Feature"
   ],
   "window_display": false
  }
 },
 "nbformat": 4,
 "nbformat_minor": 5
}
