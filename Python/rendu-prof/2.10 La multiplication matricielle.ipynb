{
 "cells": [
  {
   "cell_type": "markdown",
   "id": "744bcec0",
   "metadata": {},
   "source": [
    "# La multiplication matricielle"
   ]
  },
  {
   "cell_type": "markdown",
   "id": "4de1bf18",
   "metadata": {},
   "source": [
    "Ecrire un algorithme qui prend deux matrices carr ́ees A et B de taille n et qui renvoie un  ́element ci,j (l’ ́element de la ligne i colonne j) de la matrice C tel que, A × B = C."
   ]
  },
  {
   "cell_type": "code",
   "execution_count": 1,
   "id": "890824e8",
   "metadata": {},
   "outputs": [
    {
     "name": "stdout",
     "output_type": "stream",
     "text": [
      "[3, 1, 3, 2]\n"
     ]
    }
   ],
   "source": [
    "# La multiplication matricielle\n",
    "arrayOne=  [ \n",
    "               1, 0,\n",
    "               -1, 3\n",
    "            ]\n",
    "arrayTwo = [ \n",
    "                3, 1,\n",
    "                2, 1,\n",
    "            ]\n",
    "\n",
    "def getRow(arrayTwo:list): \n",
    "    \"\"\"\n",
    "        Transform row into column\n",
    "    \"\"\"\n",
    "    i = 0\n",
    "    row = []\n",
    "    while i != 2:\n",
    "        row.append([arrayTwo[i], arrayTwo[i + 2]])\n",
    "        i += 1    \n",
    "        \n",
    "    return row\n",
    "\n",
    "def calcMatrice(arrayOne:list, arrayTwo:list):\n",
    "    rows = getRow(arrayTwo)\n",
    "    matrice = []\n",
    "    i = 0\n",
    "    while i != len(arrayOne):\n",
    "        for row in rows:\n",
    "            value = (arrayOne[i] * row[0]) + arrayOne[i + 1] * row[1]\n",
    "            matrice.append(value)\n",
    "        i += 2\n",
    "    \n",
    "    return matrice        \n",
    "\n",
    "print(calcMatrice(arrayOne,arrayTwo))\n"
   ]
  },
  {
   "cell_type": "code",
   "execution_count": null,
   "id": "425c3977",
   "metadata": {},
   "outputs": [],
   "source": []
  }
 ],
 "metadata": {
  "kernelspec": {
   "display_name": "Python 3 (ipykernel)",
   "language": "python",
   "name": "python3"
  },
  "language_info": {
   "codemirror_mode": {
    "name": "ipython",
    "version": 3
   },
   "file_extension": ".py",
   "mimetype": "text/x-python",
   "name": "python",
   "nbconvert_exporter": "python",
   "pygments_lexer": "ipython3",
   "version": "3.10.6"
  }
 },
 "nbformat": 4,
 "nbformat_minor": 5
}
