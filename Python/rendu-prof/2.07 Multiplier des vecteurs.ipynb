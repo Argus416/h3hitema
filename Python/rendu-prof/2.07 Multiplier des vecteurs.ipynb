{
 "cells": [
  {
   "cell_type": "markdown",
   "id": "9152eeef",
   "metadata": {},
   "source": [
    "# Multiplier des vecteurs"
   ]
  },
  {
   "cell_type": "markdown",
   "id": "3f8759c9",
   "metadata": {},
   "source": [
    "Ecrire un algorithme permettant d’effectuer la multiplication de deux vecteurs de taille N connue à l’avance et d’afficher le résultat."
   ]
  },
  {
   "cell_type": "code",
   "execution_count": 2,
   "id": "1ab42b92",
   "metadata": {},
   "outputs": [
    {
     "name": "stdout",
     "output_type": "stream",
     "text": [
      "[4, 9]\n"
     ]
    }
   ],
   "source": [
    "vectorOne = [ 6 , 5 ]\n",
    "vectorTwo = [ -2 , 4 ]\n",
    "\n",
    "def multiVector(vecOne, vecTwo):\n",
    "    index = 0\n",
    "    result = [0,0]\n",
    "    while(index != 2):\n",
    "        result[index] = vecOne[index] + vecTwo[index]\n",
    "        index += 1\n",
    "    \n",
    "    return result\n",
    "\n",
    "print(multiVector(vectorOne, vectorTwo))"
   ]
  },
  {
   "cell_type": "code",
   "execution_count": null,
   "id": "c45174d3",
   "metadata": {},
   "outputs": [],
   "source": []
  }
 ],
 "metadata": {
  "kernelspec": {
   "display_name": "Python 3 (ipykernel)",
   "language": "python",
   "name": "python3"
  },
  "language_info": {
   "codemirror_mode": {
    "name": "ipython",
    "version": 3
   },
   "file_extension": ".py",
   "mimetype": "text/x-python",
   "name": "python",
   "nbconvert_exporter": "python",
   "pygments_lexer": "ipython3",
   "version": "3.10.6"
  }
 },
 "nbformat": 4,
 "nbformat_minor": 5
}
