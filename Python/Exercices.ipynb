{
 "cells": [
  {
   "cell_type": "markdown",
   "id": "17721add",
   "metadata": {},
   "source": [
    "# EXO 2.1"
   ]
  },
  {
   "cell_type": "code",
   "execution_count": 43,
   "id": "df61ba44",
   "metadata": {},
   "outputs": [
    {
     "name": "stdout",
     "output_type": "stream",
     "text": [
      "First number: 1\n",
      "Second number: 3\n",
      "Number is positive\n",
      "Number is positive\n"
     ]
    }
   ],
   "source": [
    "num1 = input('First number: ')\n",
    "num2 = input('Second number: ')\n",
    "\n",
    "def isPositive(number) : \n",
    "    number = int(number)\n",
    "    text = \"Number is positive\"\n",
    "    if(number < 0):\n",
    "        text = \"Number is negative\"  \n",
    "    print(text)\n",
    "    \n",
    "def isNumber(number) :\n",
    "    try :\n",
    "        int(number)\n",
    "        return True\n",
    "    \n",
    "    except ValueError:\n",
    "        return False\n",
    "\n",
    "while (isNumber(num1) == False) : \n",
    "    print('First number invalide')\n",
    "    num1 = input('First number: ')\n",
    "\n",
    "while (isNumber(num2) == False) : \n",
    "    print('Second number invalide')\n",
    "    num2 = input('Second number: ')\n",
    "\n",
    "\n",
    "isPositive(num1)\n",
    "isPositive(num2)"
   ]
  },
  {
   "cell_type": "markdown",
   "id": "c0e520e4",
   "metadata": {},
   "source": [
    "# EXO 2.2"
   ]
  },
  {
   "cell_type": "code",
   "execution_count": 44,
   "id": "54bad2ce",
   "metadata": {},
   "outputs": [
    {
     "name": "stdout",
     "output_type": "stream",
     "text": [
      "Please write a number: 3\n",
      "6\n"
     ]
    }
   ],
   "source": [
    "number = int(input('Please write a number: '))\n",
    "result = 0\n",
    "\n",
    "for value in range(number + 1):\n",
    "    result += value\n",
    "\n",
    "print (result)    \n",
    "\n"
   ]
  },
  {
   "cell_type": "markdown",
   "id": "b7eba251",
   "metadata": {},
   "source": [
    "# EXO 2.3"
   ]
  },
  {
   "cell_type": "code",
   "execution_count": 45,
   "id": "7bbdcc00",
   "metadata": {},
   "outputs": [
    {
     "name": "stdout",
     "output_type": "stream",
     "text": [
      "15\n"
     ]
    }
   ],
   "source": [
    "numbers = [ 1, 2, 3, 4, 5 ]\n",
    "result = 0\n",
    "\n",
    "for value in numbers:\n",
    "    result += value\n",
    "    \n",
    "print (result)    "
   ]
  },
  {
   "cell_type": "markdown",
   "id": "d5569104",
   "metadata": {},
   "source": [
    "# EXO 2.4"
   ]
  },
  {
   "cell_type": "code",
   "execution_count": 46,
   "id": "d53f9a84",
   "metadata": {},
   "outputs": [
    {
     "name": "stdout",
     "output_type": "stream",
     "text": [
      "150\n"
     ]
    }
   ],
   "source": [
    "numbers1 = [ 1, 2, 3, 4, 5 ]\n",
    "numbers2 = [ 5, 4, 3, 2, 1 ]\n",
    "result = 0\n",
    "\n",
    "for i in numbers1:\n",
    "    for j in numbers2:\n",
    "        result += i + j\n",
    "\n",
    "print (result)    \n",
    "\n"
   ]
  },
  {
   "cell_type": "markdown",
   "id": "c4102163",
   "metadata": {},
   "source": [
    "# EXO 2.5"
   ]
  },
  {
   "cell_type": "code",
   "execution_count": 47,
   "id": "cc884ecc",
   "metadata": {},
   "outputs": [
    {
     "name": "stdout",
     "output_type": "stream",
     "text": [
      "[333, 1]\n"
     ]
    }
   ],
   "source": [
    "array = [1,333,2,5]\n",
    "\n",
    "def lePlusGrand(tab):\n",
    "    value = 0\n",
    "    position = 0\n",
    "    for i in tab:\n",
    "        if(value <i):\n",
    "            value = i\n",
    "            position = tab.index(i)\n",
    "            \n",
    "    return [value, position]\n",
    "\n",
    "print(lePlusGrand(array))"
   ]
  },
  {
   "cell_type": "markdown",
   "id": "61f89fb7",
   "metadata": {},
   "source": [
    "# EXO 2.6"
   ]
  },
  {
   "cell_type": "code",
   "execution_count": 48,
   "id": "8f502e4a",
   "metadata": {},
   "outputs": [
    {
     "name": "stdout",
     "output_type": "stream",
     "text": [
      "2\n"
     ]
    }
   ],
   "source": [
    "array = [1,333,2,5,444]\n",
    "\n",
    "def sum(array):\n",
    "    result = 0\n",
    "    for value in array : \n",
    "        result += value\n",
    "    return result\n",
    "\n",
    "def average(array):\n",
    "    sumArray = sum(array) // len(array)\n",
    "    return sumArray\n",
    "\n",
    "def nbValueMoreAverage(array):\n",
    "    result = 0\n",
    "    averageValue =average(array)\n",
    "    for value in array :\n",
    "        if(value > averageValue):\n",
    "            result += 1\n",
    "    \n",
    "    return result\n",
    "\n",
    "print(nbValueMoreAverage(array))\n"
   ]
  },
  {
   "cell_type": "markdown",
   "id": "bddbb73b",
   "metadata": {},
   "source": [
    "# EXO 2.7"
   ]
  },
  {
   "cell_type": "code",
   "execution_count": 49,
   "id": "664c4990",
   "metadata": {},
   "outputs": [
    {
     "name": "stdout",
     "output_type": "stream",
     "text": [
      "[4, 9]\n"
     ]
    }
   ],
   "source": [
    "vectorOne = [ 6 , 5 ]\n",
    "vectorTwo = [ -2 , 4 ]\n",
    "\n",
    "def multiVector(vecOne, vecTwo):\n",
    "    index = 0\n",
    "    result = [0,0]\n",
    "    while(index != 2):\n",
    "        result[index] = vecOne[index] + vecTwo[index]\n",
    "        index += 1\n",
    "    \n",
    "    return result\n",
    "\n",
    "print(multiVector(vectorOne, vectorTwo))"
   ]
  },
  {
   "cell_type": "markdown",
   "id": "278e945e",
   "metadata": {},
   "source": [
    "# EXO 2.8 "
   ]
  },
  {
   "cell_type": "code",
   "execution_count": 50,
   "id": "4d9a85ec",
   "metadata": {},
   "outputs": [
    {
     "name": "stdout",
     "output_type": "stream",
     "text": [
      "[0, 1, 2, 2, 3, 4, 4, 5, 8]\n"
     ]
    }
   ],
   "source": [
    "array= [ 5, 2, 3, 4, 2, 0, 4, 8, 1 ]\n",
    "\n",
    "def isSuperior(nbOne, nbTwo):\n",
    "    if(nbOne < nbTwo):\n",
    "        return True\n",
    "    return False\n",
    "\n",
    "\n",
    "def sort(array):\n",
    "    sortedArray = []\n",
    "    if(len(array) == 0):\n",
    "        return sortedArray\n",
    "    else: \n",
    "        smallerNumber = array[0]\n",
    "        indexSmallerNumber = 0\n",
    "        \n",
    "        for i in range(len(array)) : \n",
    "            if(smallerNumber > array[i]):\n",
    "                smallerNumber = array[i]\n",
    "                indexSmallerNumber = i\n",
    "\n",
    "        sortedArray.append(smallerNumber)\n",
    "        del array[indexSmallerNumber]\n",
    "        \n",
    "        return sortedArray + sort(array)\n",
    "            \n",
    "print(sort(array))\n",
    "\n"
   ]
  },
  {
   "cell_type": "markdown",
   "id": "60989960",
   "metadata": {},
   "source": [
    "# EXO 2.9"
   ]
  },
  {
   "cell_type": "code",
   "execution_count": 52,
   "id": "1189d114",
   "metadata": {},
   "outputs": [
    {
     "name": "stdout",
     "output_type": "stream",
     "text": [
      "Please write a number: 3\n",
      "6\n"
     ]
    }
   ],
   "source": [
    "# Facturielle\n",
    "\n",
    "number = int(input('Please write a number: '))\n",
    "\n",
    "def getFacturielle(number):\n",
    "    result = 1\n",
    "    \n",
    "    for value in range(number + 1):\n",
    "        if(value != 0):\n",
    "            result *= value\n",
    "    \n",
    "    return result\n",
    "\n",
    "\n",
    "\n",
    "print(getFacturielle(number))"
   ]
  },
  {
   "cell_type": "markdown",
   "id": "fd8126af",
   "metadata": {},
   "source": [
    "# EXO 2.10"
   ]
  },
  {
   "cell_type": "code",
   "execution_count": 53,
   "id": "460162a8",
   "metadata": {},
   "outputs": [
    {
     "name": "stdout",
     "output_type": "stream",
     "text": [
      "[3, 1, 3, 2]\n"
     ]
    }
   ],
   "source": [
    "# La multiplication matricielle\n",
    "arrayOne=  [ \n",
    "               1, 0,\n",
    "               -1, 3\n",
    "            ]\n",
    "arrayTwo = [ \n",
    "                3, 1,\n",
    "                2, 1,\n",
    "            ]\n",
    "\n",
    "def getRow(arrayTwo:list): \n",
    "    \"\"\"\n",
    "        Transform row into column\n",
    "    \"\"\"\n",
    "    i = 0\n",
    "    row = []\n",
    "    while i != 2:\n",
    "        row.append([arrayTwo[i], arrayTwo[i + 2]])\n",
    "        i += 1    \n",
    "        \n",
    "    return row\n",
    "\n",
    "def calcMatrice(arrayOne:list, arrayTwo:list):\n",
    "    rows = getRow(arrayTwo)\n",
    "    matrice = []\n",
    "    i = 0\n",
    "    while i != len(arrayOne):\n",
    "        for row in rows:\n",
    "            value = (arrayOne[i] * row[0]) + arrayOne[i + 1] * row[1]\n",
    "            matrice.append(value)\n",
    "        i += 2\n",
    "    \n",
    "    return matrice        \n",
    "\n",
    "print(calcMatrice(arrayOne,arrayTwo))\n"
   ]
  },
  {
   "cell_type": "code",
   "execution_count": null,
   "id": "48496dca",
   "metadata": {},
   "outputs": [],
   "source": []
  }
 ],
 "metadata": {
  "kernelspec": {
   "display_name": "Python 3 (ipykernel)",
   "language": "python",
   "name": "python3"
  },
  "language_info": {
   "codemirror_mode": {
    "name": "ipython",
    "version": 3
   },
   "file_extension": ".py",
   "mimetype": "text/x-python",
   "name": "python",
   "nbconvert_exporter": "python",
   "pygments_lexer": "ipython3",
   "version": "3.10.6"
  }
 },
 "nbformat": 4,
 "nbformat_minor": 5
}
