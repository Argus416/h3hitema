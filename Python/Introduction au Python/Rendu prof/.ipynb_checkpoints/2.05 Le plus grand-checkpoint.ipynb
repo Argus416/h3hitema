{
 "cells": [
  {
   "cell_type": "markdown",
   "id": "285ac786",
   "metadata": {},
   "source": [
    "# Le plus grand"
   ]
  },
  {
   "cell_type": "markdown",
   "id": "9b3761b1",
   "metadata": {},
   "source": [
    "Ecrire un algorithme permettant à l’utilisateur de renvoyer la plus grande valeur du tableau passer en input en précisant quelle position elle occupe dans le tableau."
   ]
  },
  {
   "cell_type": "code",
   "execution_count": 1,
   "id": "262b455d",
   "metadata": {},
   "outputs": [
    {
     "name": "stdout",
     "output_type": "stream",
     "text": [
      "[333, 1]\n"
     ]
    }
   ],
   "source": [
    "def lePlusGrand(tab):\n",
    "    value = 0\n",
    "    position = 0\n",
    "    for i in tab:\n",
    "        if(value <i):\n",
    "            value = i\n",
    "            position = tab.index(i)\n",
    "            \n",
    "    return [value, position]\n",
    "\n",
    "\n",
    "array = [1,333,2,5]\n",
    "\n",
    "print(lePlusGrand(array))"
   ]
  },
  {
   "cell_type": "markdown",
   "id": "77849ce1",
   "metadata": {},
   "source": [
    "<b>Complexité linéare O(n) puisque on a qu'une seule boucle</b>"
   ]
  },
  {
   "cell_type": "code",
   "execution_count": null,
   "id": "a7ad9607",
   "metadata": {},
   "outputs": [],
   "source": []
  }
 ],
 "metadata": {
  "kernelspec": {
   "display_name": "Python 3 (ipykernel)",
   "language": "python",
   "name": "python3"
  },
  "language_info": {
   "codemirror_mode": {
    "name": "ipython",
    "version": 3
   },
   "file_extension": ".py",
   "mimetype": "text/x-python",
   "name": "python",
   "nbconvert_exporter": "python",
   "pygments_lexer": "ipython3",
   "version": "3.10.6"
  }
 },
 "nbformat": 4,
 "nbformat_minor": 5
}
