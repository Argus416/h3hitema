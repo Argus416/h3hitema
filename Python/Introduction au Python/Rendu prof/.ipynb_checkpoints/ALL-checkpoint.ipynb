{
 "cells": [
  {
   "cell_type": "markdown",
   "id": "3940284f",
   "metadata": {},
   "source": [
    "# EXO 2.1\n"
   ]
  },
  {
   "cell_type": "markdown",
   "id": "0f75a4a7",
   "metadata": {},
   "source": [
    "# Additivté"
   ]
  },
  {
   "cell_type": "markdown",
   "id": "923dee84",
   "metadata": {},
   "source": [
    "Ecrire un algorithme qui demande un nombre de d ́epart, et qui calcule la somme des entiers jusqu’à ce nombre. Par exemple, si l’on entre 5, le programme doit calculer: 1+2+3+4+5=15."
   ]
  },
  {
   "cell_type": "code",
   "execution_count": null,
   "id": "c919d1e2",
   "metadata": {},
   "outputs": [
    {
     "name": "stdout",
     "output_type": "stream",
     "text": [
      "Please write a number: 3\n",
      "6\n"
     ]
    }
   ],
   "source": [
    "number = int(input('Please write a number: '))\n",
    "result = 0\n",
    "\n",
    "for value in range(number + 1):\n",
    "    result += value\n",
    "\n",
    "print (result)    \n"
   ]
  },
  {
   "cell_type": "markdown",
   "id": "58e52bed",
   "metadata": {},
   "source": [
    "<b>Complexité linéare O(n) puisque on a qu'une seule boucle</b>"
   ]
  },
  {
   "cell_type": "markdown",
   "id": "d6171adc",
   "metadata": {},
   "source": [
    "<hr>"
   ]
  },
  {
   "cell_type": "markdown",
   "id": "16900ce8",
   "metadata": {},
   "source": [
    "# EXO 2.2"
   ]
  },
  {
   "cell_type": "markdown",
   "id": "bc36d1ae",
   "metadata": {},
   "source": [
    "## Condition et produit "
   ]
  },
  {
   "cell_type": "markdown",
   "id": "c9796bae",
   "metadata": {},
   "source": [
    "Ecrire un algorithme qui demande deux nombres à l’utilisateur et l’informe en suite si leur produit est négatif ou positif (on laisse de côté le cas où le produit est nul). Attention toute fois : on ne doit pas calculer le produit des deux nombres."
   ]
  },
  {
   "cell_type": "code",
   "execution_count": 1,
   "id": "c4503174",
   "metadata": {},
   "outputs": [
    {
     "name": "stdout",
     "output_type": "stream",
     "text": [
      "First number: 2\n",
      "Second number: -3\n",
      "-6\n",
      "Votre produit est negatif\n"
     ]
    }
   ],
   "source": [
    "num1 = int(input('First number: '))\n",
    "num2 = int(input('Second number: '))\n",
    "\n",
    "\n",
    "def isPositive(number1:int, number2:int)  -> str :\n",
    "    print(number1 * number2)\n",
    "    if(number1 * number2 > 0):\n",
    "        print('Votre produit est positif')\n",
    "    else : \n",
    "        print('Votre produit est negatif')\n",
    "    \n",
    "\n",
    "isPositive(num1, num2)"
   ]
  },
  {
   "cell_type": "markdown",
   "id": "38d50729",
   "metadata": {},
   "source": [
    "\n",
    "<b>Complexité constant O(1) puisque on a que des instructions</b>\n"
   ]
  },
  {
   "cell_type": "markdown",
   "id": "6ac96371",
   "metadata": {},
   "source": [
    "<hr>"
   ]
  },
  {
   "cell_type": "markdown",
   "id": "3bb07a63",
   "metadata": {},
   "source": [
    "# EXO 2.3 "
   ]
  },
  {
   "cell_type": "markdown",
   "id": "5af65c82",
   "metadata": {},
   "source": [
    "## Somme des éléments d’un tableau"
   ]
  },
  {
   "cell_type": "markdown",
   "id": "8a306588",
   "metadata": {},
   "source": [
    "Ecrire un algorithme calculant la somme des valeurs d’un tableau (on suppose bien sur que le tableau a  ́et ́e pr ́ealablement saisi)."
   ]
  },
  {
   "cell_type": "code",
   "execution_count": null,
   "id": "3ce8e482",
   "metadata": {},
   "outputs": [
    {
     "name": "stdout",
     "output_type": "stream",
     "text": [
      "15\n"
     ]
    }
   ],
   "source": [
    "numbers = [ 1, 2, 3, 4, 5 ]\n",
    "result = 0\n",
    "\n",
    "for value in numbers:\n",
    "    result += value\n",
    "\n",
    "print (result)    "
   ]
  },
  {
   "cell_type": "markdown",
   "id": "fbd4f976",
   "metadata": {},
   "source": [
    "<b>Complexité linéare O(n) puisque on a qu'une seule boucle</b>"
   ]
  },
  {
   "cell_type": "markdown",
   "id": "caabfcd3",
   "metadata": {},
   "source": [
    "<hr>"
   ]
  },
  {
   "cell_type": "markdown",
   "id": "f63b3020",
   "metadata": {},
   "source": [
    "# EXO 2.4"
   ]
  },
  {
   "cell_type": "markdown",
   "id": "e39cf2a0",
   "metadata": {},
   "source": [
    "## FacProduct"
   ]
  },
  {
   "cell_type": "markdown",
   "id": "4c879e50",
   "metadata": {},
   "source": [
    "Toujours à partir de deux tableaux précédemment saisis, écrire un algorithme qui calcule le ’FacProduct’ des deux tableaux. Pour calculer le ’FacProduct’, il faut multiplier deux à deux les éléments des tableaux et additionner le tout (le résultat final doit donc est un réel).\n"
   ]
  },
  {
   "cell_type": "code",
   "execution_count": null,
   "id": "4f1cdad5",
   "metadata": {},
   "outputs": [
    {
     "name": "stdout",
     "output_type": "stream",
     "text": [
      "225\n"
     ]
    }
   ],
   "source": [
    "numbers1 = [ 1, 2, 3, 4, 5 ]\n",
    "numbers2 = [ 5, 4, 3, 2, 1 ]\n",
    "result = 0\n",
    "\n",
    "for i in numbers1:\n",
    "    for j in numbers2:\n",
    "        result += i * j\n",
    "\n",
    "print (result)    \n"
   ]
  },
  {
   "cell_type": "markdown",
   "id": "2e283de6",
   "metadata": {},
   "source": [
    "<b>Complexité quadratique O(n ^ 2) puisque on a une boucle dans une boucle</b>"
   ]
  },
  {
   "cell_type": "markdown",
   "id": "dd1e1c0b",
   "metadata": {},
   "source": [
    "<hr>"
   ]
  },
  {
   "cell_type": "markdown",
   "id": "285ac786",
   "metadata": {},
   "source": [
    "# EXO 2.5"
   ]
  },
  {
   "cell_type": "markdown",
   "id": "abff35f0",
   "metadata": {},
   "source": [
    "## Le plus grand"
   ]
  },
  {
   "cell_type": "markdown",
   "id": "9b3761b1",
   "metadata": {},
   "source": [
    "Ecrire un algorithme permettant à l’utilisateur de renvoyer la plus grande valeur du tableau passer en input en précisant quelle position elle occupe dans le tableau."
   ]
  },
  {
   "cell_type": "code",
   "execution_count": null,
   "id": "262b455d",
   "metadata": {},
   "outputs": [
    {
     "name": "stdout",
     "output_type": "stream",
     "text": [
      "[333, 1]\n"
     ]
    }
   ],
   "source": [
    "def lePlusGrand(tab):\n",
    "    value = 0\n",
    "    position = 0\n",
    "    for i in tab:\n",
    "        if(value <i):\n",
    "            value = i\n",
    "            position = tab.index(i)\n",
    "            \n",
    "    return [value, position]\n",
    "\n",
    "\n",
    "array = [1,333,2,5]\n",
    "\n",
    "print(lePlusGrand(array))"
   ]
  },
  {
   "cell_type": "markdown",
   "id": "77849ce1",
   "metadata": {},
   "source": [
    "<b>Complexité linéare O(n) puisque on a qu'une seule boucle</b>"
   ]
  },
  {
   "cell_type": "markdown",
   "id": "cfd1669b",
   "metadata": {},
   "source": [
    "<hR>"
   ]
  },
  {
   "cell_type": "markdown",
   "id": "f3a6ecb8",
   "metadata": {},
   "source": [
    "# EXO 2.06"
   ]
  },
  {
   "cell_type": "markdown",
   "id": "7e5429e4",
   "metadata": {},
   "source": [
    "## Plus grand que la moyenne"
   ]
  },
  {
   "cell_type": "markdown",
   "id": "e1077702",
   "metadata": {},
   "source": [
    "Ecrire un algorithme permettant à l’utilisateur de renvoyer le nombre de valeur sup ́erieures à la moyenne d’un tableau passé en input de taille n."
   ]
  },
  {
   "cell_type": "code",
   "execution_count": null,
   "id": "dbe98ffe",
   "metadata": {},
   "outputs": [
    {
     "name": "stdout",
     "output_type": "stream",
     "text": [
      "2\n"
     ]
    }
   ],
   "source": [
    "array = [1,333,2,5,444]\n",
    "\n",
    "def sum(array):\n",
    "    result = 0\n",
    "    for value in array : \n",
    "        result += value\n",
    "    return result\n",
    "\n",
    "def average(array):\n",
    "    sumArray = sum(array) // len(array)\n",
    "    return sumArray\n",
    "\n",
    "def nbValueMoreAverage(array):\n",
    "    result = 0\n",
    "    averageValue =average(array)\n",
    "    for value in array :\n",
    "        if(value > averageValue):\n",
    "            result += 1\n",
    "    \n",
    "    return result\n",
    "\n",
    "print(nbValueMoreAverage(array))\n",
    "\n"
   ]
  },
  {
   "cell_type": "markdown",
   "id": "16d8b055",
   "metadata": {},
   "source": [
    "<b>Complexité linéare O(n) puisque on a qu'une seule boucle</b>"
   ]
  },
  {
   "cell_type": "code",
   "execution_count": null,
   "id": "dcf08e45",
   "metadata": {},
   "outputs": [],
   "source": []
  },
  {
   "cell_type": "markdown",
   "id": "d19cdf86",
   "metadata": {},
   "source": [
    "<hr>"
   ]
  },
  {
   "cell_type": "markdown",
   "id": "9152eeef",
   "metadata": {},
   "source": [
    "# EXO 2.07"
   ]
  },
  {
   "cell_type": "markdown",
   "id": "087a14b3",
   "metadata": {},
   "source": [
    "# Multiplier des vecteurs"
   ]
  },
  {
   "cell_type": "markdown",
   "id": "3f8759c9",
   "metadata": {},
   "source": [
    "Ecrire un algorithme permettant d’effectuer la multiplication de deux vecteurs de taille N connue à l’avance et d’afficher le résultat."
   ]
  },
  {
   "cell_type": "code",
   "execution_count": null,
   "id": "1ab42b92",
   "metadata": {},
   "outputs": [
    {
     "name": "stdout",
     "output_type": "stream",
     "text": [
      "[4, 9]\n"
     ]
    }
   ],
   "source": [
    "vectorOne = [ 6 , 5 ]\n",
    "vectorTwo = [ -2 , 4 ]\n",
    "\n",
    "def multiVector(vecOne, vecTwo):\n",
    "    index = 0\n",
    "    result = [0,0]\n",
    "    while(index != 2):\n",
    "        result[index] = vecOne[index] + vecTwo[index]\n",
    "        index += 1\n",
    "    \n",
    "    return result\n",
    "\n",
    "print(multiVector(vectorOne, vectorTwo))"
   ]
  },
  {
   "cell_type": "markdown",
   "id": "53444927",
   "metadata": {},
   "source": [
    "<b>Complexité linéare O(n) puisque on a qu'une seule boucle</b>"
   ]
  },
  {
   "cell_type": "markdown",
   "id": "fba20b99",
   "metadata": {},
   "source": [
    "<hr>"
   ]
  },
  {
   "cell_type": "markdown",
   "id": "89930732",
   "metadata": {},
   "source": [
    "# EXO 2.08"
   ]
  },
  {
   "cell_type": "markdown",
   "id": "8ddb589a",
   "metadata": {},
   "source": [
    "## Trie"
   ]
  },
  {
   "cell_type": "markdown",
   "id": "fcd6cdf2",
   "metadata": {},
   "source": [
    "Ecrire un algorithme permettant de trier un tableau de taille n."
   ]
  },
  {
   "cell_type": "code",
   "execution_count": null,
   "id": "6634a5dd",
   "metadata": {},
   "outputs": [
    {
     "name": "stdout",
     "output_type": "stream",
     "text": [
      "[0, 4, 5, 6, 6, 6, 7, 7, 7, 8, 9, 9]\n"
     ]
    }
   ],
   "source": [
    "array= [ 6, 4, 5, 6, 7, 6, 7, 8, 9, 7, 9, 0 ]\n",
    "\n",
    "def isSuperior(nbOne, nbTwo):\n",
    "    if(nbOne < nbTwo):\n",
    "        return True\n",
    "    return False\n",
    "\n",
    "\n",
    "def sort(array):\n",
    "    sortedArray = []\n",
    "    if(len(array) == 0):\n",
    "        return sortedArray\n",
    "    else: \n",
    "        smallerNumber = array[0]\n",
    "        indexSmallerNumber = 0\n",
    "        \n",
    "        for i in range(len(array)) : \n",
    "            if(smallerNumber > array[i]):\n",
    "                smallerNumber = array[i]\n",
    "                indexSmallerNumber = i\n",
    "\n",
    "        sortedArray.append(smallerNumber)\n",
    "        del array[indexSmallerNumber]\n",
    "        \n",
    "        return sortedArray + sort(array)\n",
    "            \n",
    "print(sort(array))\n",
    "\n"
   ]
  },
  {
   "cell_type": "markdown",
   "id": "cc5d388a",
   "metadata": {},
   "source": [
    "<b>Complexité logarithmique O(log(n)) puisque on a une fonction recursive</b>"
   ]
  },
  {
   "cell_type": "markdown",
   "id": "9d8970ad",
   "metadata": {},
   "source": [
    "<hr>"
   ]
  },
  {
   "cell_type": "markdown",
   "id": "a4261163",
   "metadata": {},
   "source": [
    "# EXO 2.09"
   ]
  },
  {
   "cell_type": "markdown",
   "id": "1d35cbc8",
   "metadata": {},
   "source": [
    "## Factorielle"
   ]
  },
  {
   "cell_type": "markdown",
   "id": "8c53fb99",
   "metadata": {},
   "source": [
    "Ecrire un algorithme qui demande un nombre de d ́epart, et qui calcule sa factorielle. On rappel qu’on calcul factorielle n tel que : n! = for1in i = 1×2×3×...×(n−1)×n.. Parexemple4!=1×2×3×4."
   ]
  },
  {
   "cell_type": "code",
   "execution_count": null,
   "id": "77558ff0",
   "metadata": {},
   "outputs": [
    {
     "name": "stdout",
     "output_type": "stream",
     "text": [
      "Please write a number: 5\n",
      "120\n"
     ]
    }
   ],
   "source": [
    "number = int(input('Please write a number: '))\n",
    "\n",
    "def getFacturielle(number):\n",
    "    result = 1\n",
    "    \n",
    "    for value in range(number + 1):\n",
    "        if(value != 0):\n",
    "            result *= value\n",
    "    \n",
    "    return result\n",
    "\n",
    "\n",
    "\n",
    "print(getFacturielle(number))"
   ]
  },
  {
   "cell_type": "markdown",
   "id": "338aaa49",
   "metadata": {},
   "source": [
    "<b>Complexité linéare O(n) puisque on a qu'une seule boucle </b>"
   ]
  },
  {
   "cell_type": "markdown",
   "id": "2040adad",
   "metadata": {},
   "source": [
    "<hr>"
   ]
  },
  {
   "cell_type": "markdown",
   "id": "744bcec0",
   "metadata": {},
   "source": [
    "# EXO 2.10"
   ]
  },
  {
   "cell_type": "markdown",
   "id": "40fafaaa",
   "metadata": {},
   "source": [
    "## La multiplication matricielle"
   ]
  },
  {
   "cell_type": "markdown",
   "id": "4de1bf18",
   "metadata": {},
   "source": [
    "Ecrire un algorithme qui prend deux matrices carr ́ees A et B de taille n et qui renvoie un  ́element ci,j (l’ ́element de la ligne i colonne j) de la matrice C tel que, A × B = C."
   ]
  },
  {
   "cell_type": "code",
   "execution_count": null,
   "id": "890824e8",
   "metadata": {},
   "outputs": [
    {
     "name": "stdout",
     "output_type": "stream",
     "text": [
      "[3, 1, 3, 2]\n"
     ]
    }
   ],
   "source": [
    "# La multiplication matricielle\n",
    "arrayOne=  [ \n",
    "               1, 0,\n",
    "               -1, 3\n",
    "            ]\n",
    "arrayTwo = [ \n",
    "                3, 1,\n",
    "                2, 1,\n",
    "            ]\n",
    "\n",
    "def getRow(arrayTwo:list): \n",
    "    \"\"\"\n",
    "        Transform row into column\n",
    "    \"\"\"\n",
    "    i = 0\n",
    "    row = []\n",
    "    while i != 2:\n",
    "        row.append([arrayTwo[i], arrayTwo[i + 2]])\n",
    "        i += 1    \n",
    "        \n",
    "    return row\n",
    "\n",
    "def calcMatrice(arrayOne:list, arrayTwo:list):\n",
    "    rows = getRow(arrayTwo)\n",
    "    matrice = []\n",
    "    i = 0\n",
    "    while i != len(arrayOne):\n",
    "        for row in rows:\n",
    "            value = (arrayOne[i] * row[0]) + arrayOne[i + 1] * row[1]\n",
    "            matrice.append(value)\n",
    "        i += 2\n",
    "    \n",
    "    return matrice        \n",
    "\n",
    "print(calcMatrice(arrayOne,arrayTwo))\n"
   ]
  },
  {
   "cell_type": "markdown",
   "id": "fb49f927",
   "metadata": {},
   "source": [
    "<b>Complexité quadratique O(n ^ 2) puisque on a une boucle dans une boucle</b>"
   ]
  },
  {
   "cell_type": "markdown",
   "id": "97ac2d51",
   "metadata": {},
   "source": [
    "<hr>"
   ]
  },
  {
   "cell_type": "markdown",
   "id": "5e41c135",
   "metadata": {},
   "source": [
    "# EXO 2.11"
   ]
  },
  {
   "cell_type": "markdown",
   "id": "1ae702f7",
   "metadata": {},
   "source": [
    "## Suite de Fibonacci"
   ]
  },
  {
   "cell_type": "markdown",
   "id": "26d5c020",
   "metadata": {},
   "source": [
    "La suite de Fibonacci est d ́efinit r ́ecursivement par F0 = 0 , F1 = 1 et Fn+2 = Fn+1 + Fn pour n ≥ 0. Ecrire une fonction FIBO(n) qui impl ́emente la formule ci-dessus."
   ]
  },
  {
   "cell_type": "code",
   "execution_count": null,
   "id": "c12b19dc",
   "metadata": {},
   "outputs": [
    {
     "name": "stdout",
     "output_type": "stream",
     "text": [
      "55\n"
     ]
    }
   ],
   "source": [
    "def FIBO(n):\n",
    "    fnOne = 0\n",
    "    fnTwo = 1\n",
    "    fn = fnOne + fnTwo\n",
    "    i = 1\n",
    "    \n",
    "    while ( i != n ): \n",
    "        fnTwo = fnOne\n",
    "        fnOne = fn\n",
    "        fn = fnOne + fnTwo\n",
    "        i += 1\n",
    "    \n",
    "    return fn\n",
    "    \n",
    "        \n",
    "        \n",
    "print(FIBO(10))"
   ]
  },
  {
   "cell_type": "markdown",
   "id": "a808fd4d",
   "metadata": {},
   "source": [
    "<b>Complexité linéare O(n) puisque on a qu'une seule boucle</b>"
   ]
  },
  {
   "cell_type": "markdown",
   "id": "10723cf2",
   "metadata": {},
   "source": [
    "<hr>"
   ]
  },
  {
   "cell_type": "markdown",
   "id": "3fe94209",
   "metadata": {},
   "source": [
    "#  EXO 2.12"
   ]
  },
  {
   "cell_type": "markdown",
   "id": "b77b3bd7",
   "metadata": {},
   "source": [
    "## Le temps d’arrêt"
   ]
  },
  {
   "cell_type": "markdown",
   "id": "0131025e",
   "metadata": {},
   "source": [
    "On note Hn la somme Hn = for nk=1 k1 . On admet que H tend vers +∞. Ecrire un algorithme qui détermine le plus petit entier n tel que (H) d ́epasse un r ́eel α donné."
   ]
  },
  {
   "cell_type": "code",
   "execution_count": null,
   "id": "708540ce",
   "metadata": {},
   "outputs": [
    {
     "name": "stdout",
     "output_type": "stream",
     "text": [
      "1.8333333333333333\n"
     ]
    }
   ],
   "source": [
    "# 2.12 Le temps d’arrêt\n",
    "# On note Hn la somme Hn = for nk=1 k1 . On admet que H tend vers +∞. \n",
    "# Ecrire un algorithme qui détermine le plus petit entier n tel que (H) d'épasse un réel α donné.\n",
    "\n",
    "def stopTime(n):\n",
    "   i = 1\n",
    "   result = 0\n",
    "   divise = 1 / i\n",
    "   # (1 / 1) + (1 / 2) + (1 / 3)\n",
    "   while (i != n + 1):\n",
    "      result += 1 / i\n",
    "      i += 1\n",
    "      \n",
    "   return result\n",
    "   \n",
    "   \n",
    "   \n",
    "    \n",
    "    \n",
    "        \n",
    "\n",
    "print( stopTime(3) )"
   ]
  },
  {
   "cell_type": "markdown",
   "id": "2ae40ef3",
   "metadata": {},
   "source": [
    "<b>Complexité linéare O(n) puisque on a qu'une seule boucle</b>"
   ]
  }
 ],
 "metadata": {
  "kernelspec": {
   "display_name": "Python 3 (ipykernel)",
   "language": "python",
   "name": "python3"
  },
  "language_info": {
   "codemirror_mode": {
    "name": "ipython",
    "version": 3
   },
   "file_extension": ".py",
   "mimetype": "text/x-python",
   "name": "python",
   "nbconvert_exporter": "python",
   "pygments_lexer": "ipython3",
   "version": "3.10.6"
  },
  "vscode": {
   "interpreter": {
    "hash": "b0fa6594d8f4cbf19f97940f81e996739fb7646882a419484c72d19e05852a7e"
   }
  }
 },
 "nbformat": 4,
 "nbformat_minor": 5
}
