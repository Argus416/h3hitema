{
 "cells": [
  {
   "cell_type": "markdown",
   "id": "3fe94209",
   "metadata": {},
   "source": [
    "# Le temps d’arrêt"
   ]
  },
  {
   "cell_type": "markdown",
   "id": "0131025e",
   "metadata": {},
   "source": [
    "On note Hn la somme Hn = for nk=1 k1 . On admet que H tend vers +∞. Ecrire un algorithme qui détermine le plus petit entier n tel que (H) d ́epasse un r ́eel α donné."
   ]
  },
  {
   "cell_type": "code",
   "execution_count": 1,
   "id": "708540ce",
   "metadata": {},
   "outputs": [
    {
     "name": "stdout",
     "output_type": "stream",
     "text": [
      "1.8333333333333333\n"
     ]
    }
   ],
   "source": [
    "# 2.12 Le temps d’arrêt\n",
    "# On note Hn la somme Hn = for nk=1 k1 . On admet que H tend vers +∞. \n",
    "# Ecrire un algorithme qui détermine le plus petit entier n tel que (H) d'épasse un réel α donné.\n",
    "\n",
    "def stopTime(n):\n",
    "   i = 1\n",
    "   result = 0\n",
    "   divise = 1 / i\n",
    "   # (1 / 1) + (1 / 2) + (1 / 3)\n",
    "   while (i != n + 1):\n",
    "      result += 1 / i\n",
    "      i += 1\n",
    "      \n",
    "   return result\n",
    "   \n",
    "   \n",
    "   \n",
    "    \n",
    "    \n",
    "        \n",
    "\n",
    "print( stopTime(3) )"
   ]
  },
  {
   "cell_type": "markdown",
   "id": "2ae40ef3",
   "metadata": {},
   "source": [
    "<b>Complexité linéare O(n) puisque on a qu'une seule boucle</b>"
   ]
  },
  {
   "cell_type": "code",
   "execution_count": null,
   "id": "484c2e22",
   "metadata": {},
   "outputs": [],
   "source": []
  }
 ],
 "metadata": {
  "kernelspec": {
   "display_name": "Python 3 (ipykernel)",
   "language": "python",
   "name": "python3"
  },
  "language_info": {
   "codemirror_mode": {
    "name": "ipython",
    "version": 3
   },
   "file_extension": ".py",
   "mimetype": "text/x-python",
   "name": "python",
   "nbconvert_exporter": "python",
   "pygments_lexer": "ipython3",
   "version": "3.10.6"
  }
 },
 "nbformat": 4,
 "nbformat_minor": 5
}
