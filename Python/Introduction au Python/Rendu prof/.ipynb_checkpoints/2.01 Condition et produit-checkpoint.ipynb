{
 "cells": [
  {
   "cell_type": "markdown",
   "id": "3940284f",
   "metadata": {},
   "source": [
    "# EXO 2.1\n"
   ]
  },
  {
   "cell_type": "markdown",
   "id": "bc36d1ae",
   "metadata": {},
   "source": [
    "## Condition et produit "
   ]
  },
  {
   "cell_type": "markdown",
   "id": "c9796bae",
   "metadata": {},
   "source": [
    "Ecrire un algorithme qui demande deux nombres à l’utilisateur et l’informe en suite si leur produit est négatif ou positif (on laisse de côté le cas où le produit est nul). Attention toute fois : on ne doit pas calculer le produit des deux nombres."
   ]
  },
  {
   "cell_type": "code",
   "execution_count": 1,
   "id": "c4503174",
   "metadata": {},
   "outputs": [
    {
     "name": "stdout",
     "output_type": "stream",
     "text": [
      "First number: 2\n",
      "Second number: -3\n",
      "-6\n",
      "Votre produit est negatif\n"
     ]
    }
   ],
   "source": [
    "num1 = int(input('First number: '))\n",
    "num2 = int(input('Second number: '))\n",
    "\n",
    "\n",
    "def isPositive(number1:int, number2:int)  -> str :\n",
    "    print(number1 * number2)\n",
    "    if(number1 * number2 > 0):\n",
    "        print('Votre produit est positif')\n",
    "    else : \n",
    "        print('Votre produit est negatif')\n",
    "    \n",
    "\n",
    "isPositive(num1, num2)"
   ]
  },
  {
   "cell_type": "markdown",
   "id": "38d50729",
   "metadata": {},
   "source": [
    "\n",
    "<b>Complexité constant O(1) puisque on a que des instructions</b>\n"
   ]
  },
  {
   "cell_type": "code",
   "execution_count": null,
   "id": "4777f900",
   "metadata": {},
   "outputs": [],
   "source": []
  }
 ],
 "metadata": {
  "kernelspec": {
   "display_name": "Python 3 (ipykernel)",
   "language": "python",
   "name": "python3"
  },
  "language_info": {
   "codemirror_mode": {
    "name": "ipython",
    "version": 3
   },
   "file_extension": ".py",
   "mimetype": "text/x-python",
   "name": "python",
   "nbconvert_exporter": "python",
   "pygments_lexer": "ipython3",
   "version": "3.10.6"
  }
 },
 "nbformat": 4,
 "nbformat_minor": 5
}
