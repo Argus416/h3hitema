{
 "cells": [
  {
   "cell_type": "markdown",
   "id": "0f75a4a7",
   "metadata": {},
   "source": [
    "# Additivté"
   ]
  },
  {
   "cell_type": "markdown",
   "id": "923dee84",
   "metadata": {},
   "source": [
    "Ecrire un algorithme qui demande un nombre de d ́epart, et qui calcule la somme des entiers jusqu’à ce nombre. Par exemple, si l’on entre 5, le programme doit calculer: 1+2+3+4+5=15."
   ]
  },
  {
   "cell_type": "code",
   "execution_count": 1,
   "id": "c919d1e2",
   "metadata": {},
   "outputs": [
    {
     "name": "stdout",
     "output_type": "stream",
     "text": [
      "Please write a number: 3\n",
      "6\n"
     ]
    }
   ],
   "source": [
    "number = int(input('Please write a number: '))\n",
    "result = 0\n",
    "\n",
    "for value in range(number + 1):\n",
    "    result += value\n",
    "\n",
    "print (result)    \n"
   ]
  },
  {
   "cell_type": "markdown",
   "id": "58e52bed",
   "metadata": {},
   "source": [
    "<b>Complexité linéare O(n) puisque on a qu'une seule boucle</b>"
   ]
  },
  {
   "cell_type": "code",
   "execution_count": null,
   "id": "6d573a6c",
   "metadata": {},
   "outputs": [],
   "source": []
  }
 ],
 "metadata": {
  "kernelspec": {
   "display_name": "Python 3 (ipykernel)",
   "language": "python",
   "name": "python3"
  },
  "language_info": {
   "codemirror_mode": {
    "name": "ipython",
    "version": 3
   },
   "file_extension": ".py",
   "mimetype": "text/x-python",
   "name": "python",
   "nbconvert_exporter": "python",
   "pygments_lexer": "ipython3",
   "version": "3.10.6"
  }
 },
 "nbformat": 4,
 "nbformat_minor": 5
}
