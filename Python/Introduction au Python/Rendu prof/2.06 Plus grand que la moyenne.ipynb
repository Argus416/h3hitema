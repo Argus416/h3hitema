{
 "cells": [
  {
   "cell_type": "markdown",
   "id": "f3a6ecb8",
   "metadata": {},
   "source": [
    "# EXO 2.06"
   ]
  },
  {
   "cell_type": "markdown",
   "id": "7e5429e4",
   "metadata": {},
   "source": [
    "## Plus grand que la moyenne"
   ]
  },
  {
   "cell_type": "markdown",
   "id": "e1077702",
   "metadata": {},
   "source": [
    "Ecrire un algorithme permettant à l’utilisateur de renvoyer le nombre de valeur sup ́erieures à la moyenne d’un tableau passé en input de taille n."
   ]
  },
  {
   "cell_type": "code",
   "execution_count": 1,
   "id": "dbe98ffe",
   "metadata": {},
   "outputs": [
    {
     "name": "stdout",
     "output_type": "stream",
     "text": [
      "2\n"
     ]
    }
   ],
   "source": [
    "array = [1,333,2,5,444]\n",
    "\n",
    "def sum(array):\n",
    "    result = 0\n",
    "    for value in array : \n",
    "        result += value\n",
    "    return result\n",
    "\n",
    "def average(array):\n",
    "    sumArray = sum(array) // len(array)\n",
    "    return sumArray\n",
    "\n",
    "def nbValueMoreAverage(array):\n",
    "    result = 0\n",
    "    averageValue =average(array)\n",
    "    for value in array :\n",
    "        if(value > averageValue):\n",
    "            result += 1\n",
    "    \n",
    "    return result\n",
    "\n",
    "print(nbValueMoreAverage(array))\n",
    "\n"
   ]
  },
  {
   "cell_type": "markdown",
   "id": "16d8b055",
   "metadata": {},
   "source": [
    "<b>Complexité linéare O(n) puisque on a qu'une seule boucle</b>"
   ]
  },
  {
   "cell_type": "code",
   "execution_count": null,
   "id": "dcf08e45",
   "metadata": {},
   "outputs": [],
   "source": []
  }
 ],
 "metadata": {
  "kernelspec": {
   "display_name": "Python 3.10.6 64-bit",
   "language": "python",
   "name": "python3"
  },
  "language_info": {
   "codemirror_mode": {
    "name": "ipython",
    "version": 3
   },
   "file_extension": ".py",
   "mimetype": "text/x-python",
   "name": "python",
   "nbconvert_exporter": "python",
   "pygments_lexer": "ipython3",
   "version": "3.10.6"
  },
  "vscode": {
   "interpreter": {
    "hash": "b0fa6594d8f4cbf19f97940f81e996739fb7646882a419484c72d19e05852a7e"
   }
  }
 },
 "nbformat": 4,
 "nbformat_minor": 5
}
