{
 "cells": [
  {
   "cell_type": "markdown",
   "id": "a4261163",
   "metadata": {},
   "source": [
    "# EXO 2.09"
   ]
  },
  {
   "cell_type": "markdown",
   "id": "1d35cbc8",
   "metadata": {},
   "source": [
    "## Factorielle"
   ]
  },
  {
   "cell_type": "markdown",
   "id": "8c53fb99",
   "metadata": {},
   "source": [
    "Ecrire un algorithme qui demande un nombre de d ́epart, et qui calcule sa factorielle. On rappel qu’on calcul factorielle n tel que : n! = for1in i = 1×2×3×...×(n−1)×n.. Parexemple4!=1×2×3×4."
   ]
  },
  {
   "cell_type": "code",
   "execution_count": 1,
   "id": "77558ff0",
   "metadata": {},
   "outputs": [
    {
     "name": "stdout",
     "output_type": "stream",
     "text": [
      "Please write a number: 5\n",
      "120\n"
     ]
    }
   ],
   "source": [
    "number = int(input('Please write a number: '))\n",
    "\n",
    "def getFacturielle(number):\n",
    "    result = 1\n",
    "    \n",
    "    for value in range(number + 1):\n",
    "        if(value != 0):\n",
    "            result *= value\n",
    "    \n",
    "    return result\n",
    "\n",
    "\n",
    "\n",
    "print(getFacturielle(number))"
   ]
  },
  {
   "cell_type": "markdown",
   "id": "338aaa49",
   "metadata": {},
   "source": [
    "<b>Complexité linéare O(n) puisque on a qu'une seule boucle </b>"
   ]
  },
  {
   "cell_type": "code",
   "execution_count": null,
   "id": "d56c4e4a",
   "metadata": {},
   "outputs": [],
   "source": []
  }
 ],
 "metadata": {
  "kernelspec": {
   "display_name": "Python 3.10.6 64-bit",
   "language": "python",
   "name": "python3"
  },
  "language_info": {
   "codemirror_mode": {
    "name": "ipython",
    "version": 3
   },
   "file_extension": ".py",
   "mimetype": "text/x-python",
   "name": "python",
   "nbconvert_exporter": "python",
   "pygments_lexer": "ipython3",
   "version": "3.10.6"
  },
  "vscode": {
   "interpreter": {
    "hash": "b0fa6594d8f4cbf19f97940f81e996739fb7646882a419484c72d19e05852a7e"
   }
  }
 },
 "nbformat": 4,
 "nbformat_minor": 5
}
