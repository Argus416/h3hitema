{
 "cells": [
  {
   "cell_type": "markdown",
   "id": "5e41c135",
   "metadata": {},
   "source": [
    "# EXO 2.11"
   ]
  },
  {
   "cell_type": "markdown",
   "id": "1ae702f7",
   "metadata": {},
   "source": [
    "## Suite de Fibonacci"
   ]
  },
  {
   "cell_type": "markdown",
   "id": "26d5c020",
   "metadata": {},
   "source": [
    "La suite de Fibonacci est d ́efinit r ́ecursivement par F0 = 0 , F1 = 1 et Fn+2 = Fn+1 + Fn pour n ≥ 0. Ecrire une fonction FIBO(n) qui impl ́emente la formule ci-dessus."
   ]
  },
  {
   "cell_type": "code",
   "execution_count": 2,
   "id": "c12b19dc",
   "metadata": {},
   "outputs": [
    {
     "name": "stdout",
     "output_type": "stream",
     "text": [
      "55\n"
     ]
    }
   ],
   "source": [
    "def FIBO(n):\n",
    "    fnOne = 0\n",
    "    fnTwo = 1\n",
    "    fn = fnOne + fnTwo\n",
    "    i = 1\n",
    "    \n",
    "    while ( i != n ): \n",
    "        fnTwo = fnOne\n",
    "        fnOne = fn\n",
    "        fn = fnOne + fnTwo\n",
    "        i += 1\n",
    "    \n",
    "    return fn\n",
    "    \n",
    "        \n",
    "        \n",
    "print(FIBO(10))"
   ]
  },
  {
   "cell_type": "markdown",
   "id": "a808fd4d",
   "metadata": {},
   "source": [
    "<b>Complexité linéare O(n) puisque on a qu'une seule boucle</b>"
   ]
  },
  {
   "cell_type": "code",
   "execution_count": null,
   "id": "2e4709a0",
   "metadata": {},
   "outputs": [],
   "source": []
  }
 ],
 "metadata": {
  "kernelspec": {
   "display_name": "Python 3.10.6 64-bit",
   "language": "python",
   "name": "python3"
  },
  "language_info": {
   "codemirror_mode": {
    "name": "ipython",
    "version": 3
   },
   "file_extension": ".py",
   "mimetype": "text/x-python",
   "name": "python",
   "nbconvert_exporter": "python",
   "pygments_lexer": "ipython3",
   "version": "3.10.6"
  },
  "vscode": {
   "interpreter": {
    "hash": "b0fa6594d8f4cbf19f97940f81e996739fb7646882a419484c72d19e05852a7e"
   }
  }
 },
 "nbformat": 4,
 "nbformat_minor": 5
}
