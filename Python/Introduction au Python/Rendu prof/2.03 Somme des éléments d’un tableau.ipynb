{
 "cells": [
  {
   "cell_type": "markdown",
   "id": "3bb07a63",
   "metadata": {},
   "source": [
    "# EXO 2.3 "
   ]
  },
  {
   "cell_type": "markdown",
   "id": "5af65c82",
   "metadata": {},
   "source": [
    "## Somme des éléments d’un tableau"
   ]
  },
  {
   "cell_type": "markdown",
   "id": "8a306588",
   "metadata": {},
   "source": [
    "Ecrire un algorithme calculant la somme des valeurs d’un tableau (on suppose bien sur que le tableau a  ́et ́e pr ́ealablement saisi)."
   ]
  },
  {
   "cell_type": "code",
   "execution_count": 2,
   "id": "3ce8e482",
   "metadata": {},
   "outputs": [
    {
     "name": "stdout",
     "output_type": "stream",
     "text": [
      "15\n"
     ]
    }
   ],
   "source": [
    "numbers = [ 1, 2, 3, 4, 5 ]\n",
    "result = 0\n",
    "\n",
    "for value in numbers:\n",
    "    result += value\n",
    "\n",
    "print (result)    "
   ]
  },
  {
   "cell_type": "markdown",
   "id": "fbd4f976",
   "metadata": {},
   "source": [
    "<b>Complexité linéare O(n) puisque on a qu'une seule boucle</b>"
   ]
  },
  {
   "cell_type": "code",
   "execution_count": null,
   "id": "76f51e50",
   "metadata": {},
   "outputs": [],
   "source": []
  }
 ],
 "metadata": {
  "kernelspec": {
   "display_name": "Python 3.10.6 64-bit",
   "language": "python",
   "name": "python3"
  },
  "language_info": {
   "codemirror_mode": {
    "name": "ipython",
    "version": 3
   },
   "file_extension": ".py",
   "mimetype": "text/x-python",
   "name": "python",
   "nbconvert_exporter": "python",
   "pygments_lexer": "ipython3",
   "version": "3.10.6"
  },
  "vscode": {
   "interpreter": {
    "hash": "b0fa6594d8f4cbf19f97940f81e996739fb7646882a419484c72d19e05852a7e"
   }
  }
 },
 "nbformat": 4,
 "nbformat_minor": 5
}
