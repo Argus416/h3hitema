{
 "cells": [
  {
   "cell_type": "markdown",
   "id": "c962748c",
   "metadata": {},
   "source": [
    "# Hashmap"
   ]
  },
  {
   "cell_type": "markdown",
   "id": "51fd23e3",
   "metadata": {},
   "source": [
    "Le Hashmap, les dictionnaires en Python, est une structure de données, qui stock des valeurs et les associe avec une clé unique"
   ]
  },
  {
   "cell_type": "markdown",
   "id": "1c49dbbe",
   "metadata": {},
   "source": [
    "## Les avantages de Hashmap "
   ]
  },
  {
   "cell_type": "markdown",
   "id": "3fbfa563",
   "metadata": {},
   "source": [
    "<ol>\n",
    "    <li>\n",
    "        La complexité du temps de recherche est de O(1) alors qu'avec les tableaux est de O(n) car il suffit de sélectionner la clé\n",
    "    </li>\n",
    "    <li> Les clés customisées sont plus faciles de travailler avec </li>\n",
    "</ol>"
   ]
  },
  {
   "cell_type": "markdown",
   "id": "ca8898d5",
   "metadata": {},
   "source": [
    "## Comment ça marche"
   ]
  },
  {
   "cell_type": "markdown",
   "id": "12905cfc",
   "metadata": {},
   "source": [
    "Le hashmap est construit à partir d’un array / tableau, les arrays utilisent de base les clés comme index, mais avec le hashmap, il utilise une fonction de hashing pour transformer l’index  à une clé customisée "
   ]
  },
  {
   "cell_type": "markdown",
   "id": "739d0782",
   "metadata": {},
   "source": [
    "<img src=\"./images/1.png\" />"
   ]
  },
  {
   "cell_type": "markdown",
   "id": "93f528d0",
   "metadata": {},
   "source": [
    "Dans cet exemple on voit qu'on fait une itération de tableau jusqu'elle trouve l'index de Tokey, qui fait  <b> une complexité de temps O(n)</b>"
   ]
  },
  {
   "cell_type": "markdown",
   "id": "4c9c5d57",
   "metadata": {},
   "source": [
    "<img src=\"./images/2.png\" />"
   ]
  },
  {
   "cell_type": "markdown",
   "id": "5a221532",
   "metadata": {},
   "source": [
    "Alors que Dans cet exemple il suffit de sélection la clé pour qu'on récupère la valeur, qui fait  <b> une complexité de temps O(1)</b>"
   ]
  },
  {
   "cell_type": "markdown",
   "id": "b7869ebb",
   "metadata": {},
   "source": [
    "## Exemple "
   ]
  },
  {
   "cell_type": "markdown",
   "id": "b61d692e",
   "metadata": {},
   "source": [
    "Problème 49 de leetcode : https://leetcode.com/problems/group-anagrams/\n",
    "\n",
    "Étant donné un tableau de chaînes, regroupez les anagrammes. Vous pouvez retourner la réponse dans n'importe quel ordre"
   ]
  },
  {
   "cell_type": "code",
   "execution_count": 19,
   "id": "3be8cbcb",
   "metadata": {},
   "outputs": [
    {
     "data": {
      "text/plain": [
       "[['eat', 'tea', 'ate'], ['tan', 'nat'], ['bat']]"
      ]
     },
     "execution_count": 19,
     "metadata": {},
     "output_type": "execute_result"
    }
   ],
   "source": [
    "# On import defaultdict puisque le List native de Python renvoie un message d'erreur quand on essaie \n",
    "# d'accéder une clé inexistante, alors que defaultdict il va nous crée la clé \n",
    "\n",
    "from collections import defaultdict;\n",
    "\n",
    "def groupAnagrams(listOfStrings: list) -> list: \n",
    "    #On instancie la list\n",
    "    anagram_map = defaultdict(list)\n",
    "    result = []\n",
    "\n",
    "    # Notre Hashmap\n",
    "    for s in listOfStrings:\n",
    "        # On trie alphabétiquement d'abord les lettres de chaque mot, ensuite on les stocke \n",
    "        # comme une clé sous format de Tuple, car le Tuple, il est immuable\n",
    "        sorted_s = tuple(sorted(s))\n",
    "        \n",
    "        # On attache la valeur à notre clé\n",
    "        anagram_map[sorted_s].append(s)\n",
    "    \n",
    "    # On récupère les valeurs de chaque clé, ensuite on l'attache sur le tableau résultat\n",
    "    for value in anagram_map.values():\n",
    "        result.append(value)\n",
    "    \n",
    "    return result\n",
    "\n",
    "\n",
    "strs = [\"eat\",\"tea\",\"tan\",\"ate\",\"nat\",\"bat\"]\n",
    "\n",
    "groupAnagrams(strs)\n",
    "    \n",
    "    \n",
    "        \n",
    "        "
   ]
  },
  {
   "cell_type": "code",
   "execution_count": null,
   "id": "3d5af87a",
   "metadata": {},
   "outputs": [],
   "source": []
  }
 ],
 "metadata": {
  "kernelspec": {
   "display_name": "Python 3 (ipykernel)",
   "language": "python",
   "name": "python3"
  },
  "language_info": {
   "codemirror_mode": {
    "name": "ipython",
    "version": 3
   },
   "file_extension": ".py",
   "mimetype": "text/x-python",
   "name": "python",
   "nbconvert_exporter": "python",
   "pygments_lexer": "ipython3",
   "version": "3.10.6"
  }
 },
 "nbformat": 4,
 "nbformat_minor": 5
}
