{
 "cells": [
  {
   "cell_type": "markdown",
   "id": "6db127ef",
   "metadata": {},
   "source": [
    "# Hashmap"
   ]
  },
  {
   "cell_type": "markdown",
   "id": "5dfc6336",
   "metadata": {},
   "source": [
    "Le Hashmap, les dictionnaires en Python, est une structure de données, qui stock des valeurs et les associe avec une clé unique"
   ]
  },
  {
   "cell_type": "markdown",
   "id": "aab4e872",
   "metadata": {},
   "source": [
    "## Les avantages de Hashmap "
   ]
  },
  {
   "cell_type": "markdown",
   "id": "f72bde01",
   "metadata": {},
   "source": [
    "<ol>\n",
    "    <li>\n",
    "        La complexité du temps de recherche est de O(1) alors qu'avec les tableaux est de O(n) car il suffit de sélectionner la clé\n",
    "    </li>\n",
    "    <li> Les clés customisées sont plus faciles de travailler avec </li>\n",
    "</ol>"
   ]
  },
  {
   "cell_type": "markdown",
   "id": "535a1c4d",
   "metadata": {},
   "source": [
    "## Comment ça marche"
   ]
  },
  {
   "cell_type": "markdown",
   "id": "2a86077a",
   "metadata": {},
   "source": [
    "Le hashmap est construit à partir d’un array / tableau, les arrays utilisent de base les clés comme index, mais avec le hashmap, il utilise une fonction de hashing pour transformer l’index  à une clé customisée "
   ]
  },
  {
   "cell_type": "markdown",
   "id": "f83db55d",
   "metadata": {},
   "source": [
    "<img src=\"./images/1.png\" />"
   ]
  },
  {
   "cell_type": "markdown",
   "id": "b98ea1c8",
   "metadata": {},
   "source": [
    "Dans cet exemple on voit qu'on fait une itération de tableau jusqu'elle trouve l'index de Tokey, qui fait  <b> une complexité de temps O(n)</b>"
   ]
  },
  {
   "cell_type": "markdown",
   "id": "a487fdea",
   "metadata": {},
   "source": [
    "<img src=\"./images/2.png\" />"
   ]
  },
  {
   "cell_type": "markdown",
   "id": "08140805",
   "metadata": {},
   "source": [
    "Alors que Dans cet exemple il suffit de sélection la clé pour qu'on récupère la valeur, qui fait  <b> une complexité de temps O(1)</b>"
   ]
  },
  {
   "cell_type": "markdown",
   "id": "8b877c7d",
   "metadata": {},
   "source": [
    "## Exemple "
   ]
  },
  {
   "cell_type": "markdown",
   "id": "9934c623",
   "metadata": {},
   "source": [
    "Problème 49 de leetcode : https://leetcode.com/problems/group-anagrams/\n",
    "\n",
    "Étant donné un tableau de chaînes, regroupez les anagrammes. Vous pouvez retourner la réponse dans n'importe quel ordre"
   ]
  },
  {
   "cell_type": "code",
   "execution_count": 18,
   "id": "964d9a56",
   "metadata": {},
   "outputs": [
    {
     "data": {
      "text/plain": [
       "[['eat', 'tea', 'ate'], ['tan', 'nat'], ['bat']]"
      ]
     },
     "execution_count": 18,
     "metadata": {},
     "output_type": "execute_result"
    }
   ],
   "source": [
    "# On import defaultdict puisque le List native de Python renvoie un message d'erreur quand on essaie \n",
    "# d'accéder une clé inexistante, alors que defaultdict il va nous crée la clé \n",
    "\n",
    "from collections import defaultdict;\n",
    "\n",
    "def groupAnagrams(listOfStrings: list) -> list: \n",
    "    #On instancie la list\n",
    "    anagram_map = defaultdict(list)\n",
    "    result = []\n",
    "\n",
    "    # Notre Hashmap\n",
    "    for s in listOfStrings:\n",
    "        # On trie alphabétiquement d'abord les lettres de chaque mot, ensuite on les stocke  comme une clé sous \n",
    "        # format de Tuple, car le Tuple, il est immuable\n",
    "        sorted_s = tuple(sorted(s))\n",
    "        \n",
    "        # On attache la valeur a notre clé\n",
    "        anagram_map[sorted_s].append(s)\n",
    "    \n",
    "    # On récupère les valeurs de chaque clé, ensuite on l'attache sur le tableau resulat\n",
    "    for value in anagram_map.values():\n",
    "        result.append(value)\n",
    "    \n",
    "    return result\n",
    "\n",
    "\n",
    "strs = [\"eat\",\"tea\",\"tan\",\"ate\",\"nat\",\"bat\"]\n",
    "\n",
    "groupAnagrams(strs)\n",
    "    \n",
    "    \n",
    "        \n",
    "        "
   ]
  },
  {
   "cell_type": "code",
   "execution_count": null,
   "id": "3354f85c",
   "metadata": {},
   "outputs": [],
   "source": []
  }
 ],
 "metadata": {
  "kernelspec": {
   "display_name": "Python 3 (ipykernel)",
   "language": "python",
   "name": "python3"
  },
  "language_info": {
   "codemirror_mode": {
    "name": "ipython",
    "version": 3
   },
   "file_extension": ".py",
   "mimetype": "text/x-python",
   "name": "python",
   "nbconvert_exporter": "python",
   "pygments_lexer": "ipython3",
   "version": "3.10.6"
  }
 },
 "nbformat": 4,
 "nbformat_minor": 5
}
