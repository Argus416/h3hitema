{
 "cells": [
  {
   "cell_type": "code",
   "execution_count": 2,
   "id": "2f0dc20f",
   "metadata": {
    "ExecuteTime": {
     "end_time": "2022-09-22T08:35:04.496092Z",
     "start_time": "2022-09-22T08:35:04.493342Z"
    }
   },
   "outputs": [],
   "source": [
    "# Votre analyse sous forme de Jupyter Notebook déposé sur votre git en PUBLIC devra contenir:\n",
    "# * Une problématique pertinente (c-a-d ou il est possible de répondre avec des données)\n",
    "# * Au moins 1 diagramme avec données continues, type nuage de point ou histogramme\n",
    "# * Au moins 2 diagrammes avec des données discrètes\n",
    "# * Au moins 3 graphiques avec des données catégoriques\n",
    "# * 1 boîte à moustaches avec filtrage des données aberrantes sur le dataset (si il y en a)\n",
    "# * 1 heat map avec matrice de corrélation (si pertinent)\n",
    "# * Des commentaires clairs et pertinents pour chaque graphiques \n"
   ]
  },
  {
   "cell_type": "code",
   "execution_count": 183,
   "id": "b84efc66",
   "metadata": {
    "ExecuteTime": {
     "end_time": "2022-09-22T13:52:31.728863Z",
     "start_time": "2022-09-22T13:52:31.722376Z"
    }
   },
   "outputs": [],
   "source": [
    "# Est-ce que les entreprises embauchent seulement ceux qui sont diplômés, si non, le diplôme est-il un facteur important sur le salaire\n",
    "\n",
    "# - Quel sont les postes occupés par rapport au diplôme\n",
    "# - les domaines d'entreprise qu'on a\n",
    "# - la majorité des profiles dans une entreprise + l'industry\n",
    "# - Est-ce que il y une difference de salaires entre ceux qui sont diplômés ou pas\n",
    "# - Moyenne de salaire\n",
    "# - Quelle sont les corr qui impact le salaire\n",
    "# - "
   ]
  },
  {
   "cell_type": "code",
   "execution_count": 202,
   "id": "4023a906",
   "metadata": {
    "ExecuteTime": {
     "end_time": "2022-09-22T14:12:53.115860Z",
     "start_time": "2022-09-22T14:12:52.718427Z"
    }
   },
   "outputs": [
    {
     "data": {
      "text/html": [
       "<div>\n",
       "<style scoped>\n",
       "    .dataframe tbody tr th:only-of-type {\n",
       "        vertical-align: middle;\n",
       "    }\n",
       "\n",
       "    .dataframe tbody tr th {\n",
       "        vertical-align: top;\n",
       "    }\n",
       "\n",
       "    .dataframe thead th {\n",
       "        text-align: right;\n",
       "    }\n",
       "</style>\n",
       "<table border=\"1\" class=\"dataframe\">\n",
       "  <thead>\n",
       "    <tr style=\"text-align: right;\">\n",
       "      <th></th>\n",
       "      <th>companyId</th>\n",
       "      <th>jobType</th>\n",
       "      <th>degree</th>\n",
       "      <th>major</th>\n",
       "      <th>industry</th>\n",
       "      <th>yearsExperience</th>\n",
       "      <th>milesFromMetropolis</th>\n",
       "      <th>salary</th>\n",
       "    </tr>\n",
       "  </thead>\n",
       "  <tbody>\n",
       "    <tr>\n",
       "      <th>294247</th>\n",
       "      <td>COMP48</td>\n",
       "      <td>JANITOR</td>\n",
       "      <td>HIGH_SCHOOL</td>\n",
       "      <td>NONE</td>\n",
       "      <td>EDUCATION</td>\n",
       "      <td>8</td>\n",
       "      <td>82</td>\n",
       "      <td>40</td>\n",
       "    </tr>\n",
       "    <tr>\n",
       "      <th>19144</th>\n",
       "      <td>COMP19</td>\n",
       "      <td>SENIOR</td>\n",
       "      <td>MASTERS</td>\n",
       "      <td>MATH</td>\n",
       "      <td>FINANCE</td>\n",
       "      <td>15</td>\n",
       "      <td>13</td>\n",
       "      <td>154</td>\n",
       "    </tr>\n",
       "    <tr>\n",
       "      <th>860836</th>\n",
       "      <td>COMP13</td>\n",
       "      <td>VICE_PRESIDENT</td>\n",
       "      <td>NONE</td>\n",
       "      <td>NONE</td>\n",
       "      <td>HEALTH</td>\n",
       "      <td>7</td>\n",
       "      <td>68</td>\n",
       "      <td>97</td>\n",
       "    </tr>\n",
       "    <tr>\n",
       "      <th>391147</th>\n",
       "      <td>COMP55</td>\n",
       "      <td>JANITOR</td>\n",
       "      <td>HIGH_SCHOOL</td>\n",
       "      <td>NONE</td>\n",
       "      <td>SERVICE</td>\n",
       "      <td>23</td>\n",
       "      <td>46</td>\n",
       "      <td>79</td>\n",
       "    </tr>\n",
       "    <tr>\n",
       "      <th>141917</th>\n",
       "      <td>COMP6</td>\n",
       "      <td>VICE_PRESIDENT</td>\n",
       "      <td>HIGH_SCHOOL</td>\n",
       "      <td>NONE</td>\n",
       "      <td>EDUCATION</td>\n",
       "      <td>14</td>\n",
       "      <td>30</td>\n",
       "      <td>113</td>\n",
       "    </tr>\n",
       "    <tr>\n",
       "      <th>...</th>\n",
       "      <td>...</td>\n",
       "      <td>...</td>\n",
       "      <td>...</td>\n",
       "      <td>...</td>\n",
       "      <td>...</td>\n",
       "      <td>...</td>\n",
       "      <td>...</td>\n",
       "      <td>...</td>\n",
       "    </tr>\n",
       "    <tr>\n",
       "      <th>779543</th>\n",
       "      <td>COMP27</td>\n",
       "      <td>CFO</td>\n",
       "      <td>BACHELORS</td>\n",
       "      <td>MATH</td>\n",
       "      <td>WEB</td>\n",
       "      <td>18</td>\n",
       "      <td>33</td>\n",
       "      <td>173</td>\n",
       "    </tr>\n",
       "    <tr>\n",
       "      <th>239394</th>\n",
       "      <td>COMP43</td>\n",
       "      <td>CFO</td>\n",
       "      <td>HIGH_SCHOOL</td>\n",
       "      <td>NONE</td>\n",
       "      <td>AUTO</td>\n",
       "      <td>17</td>\n",
       "      <td>6</td>\n",
       "      <td>121</td>\n",
       "    </tr>\n",
       "    <tr>\n",
       "      <th>820853</th>\n",
       "      <td>COMP37</td>\n",
       "      <td>JUNIOR</td>\n",
       "      <td>HIGH_SCHOOL</td>\n",
       "      <td>NONE</td>\n",
       "      <td>WEB</td>\n",
       "      <td>1</td>\n",
       "      <td>99</td>\n",
       "      <td>69</td>\n",
       "    </tr>\n",
       "    <tr>\n",
       "      <th>625447</th>\n",
       "      <td>COMP11</td>\n",
       "      <td>JUNIOR</td>\n",
       "      <td>MASTERS</td>\n",
       "      <td>BUSINESS</td>\n",
       "      <td>FINANCE</td>\n",
       "      <td>20</td>\n",
       "      <td>79</td>\n",
       "      <td>124</td>\n",
       "    </tr>\n",
       "    <tr>\n",
       "      <th>334894</th>\n",
       "      <td>COMP60</td>\n",
       "      <td>SENIOR</td>\n",
       "      <td>MASTERS</td>\n",
       "      <td>COMPSCI</td>\n",
       "      <td>AUTO</td>\n",
       "      <td>17</td>\n",
       "      <td>20</td>\n",
       "      <td>95</td>\n",
       "    </tr>\n",
       "  </tbody>\n",
       "</table>\n",
       "<p>10000 rows × 8 columns</p>\n",
       "</div>"
      ],
      "text/plain": [
       "       companyId         jobType       degree     major   industry  \\\n",
       "294247    COMP48         JANITOR  HIGH_SCHOOL      NONE  EDUCATION   \n",
       "19144     COMP19          SENIOR      MASTERS      MATH    FINANCE   \n",
       "860836    COMP13  VICE_PRESIDENT         NONE      NONE     HEALTH   \n",
       "391147    COMP55         JANITOR  HIGH_SCHOOL      NONE    SERVICE   \n",
       "141917     COMP6  VICE_PRESIDENT  HIGH_SCHOOL      NONE  EDUCATION   \n",
       "...          ...             ...          ...       ...        ...   \n",
       "779543    COMP27             CFO    BACHELORS      MATH        WEB   \n",
       "239394    COMP43             CFO  HIGH_SCHOOL      NONE       AUTO   \n",
       "820853    COMP37          JUNIOR  HIGH_SCHOOL      NONE        WEB   \n",
       "625447    COMP11          JUNIOR      MASTERS  BUSINESS    FINANCE   \n",
       "334894    COMP60          SENIOR      MASTERS   COMPSCI       AUTO   \n",
       "\n",
       "        yearsExperience  milesFromMetropolis  salary  \n",
       "294247                8                   82      40  \n",
       "19144                15                   13     154  \n",
       "860836                7                   68      97  \n",
       "391147               23                   46      79  \n",
       "141917               14                   30     113  \n",
       "...                 ...                  ...     ...  \n",
       "779543               18                   33     173  \n",
       "239394               17                    6     121  \n",
       "820853                1                   99      69  \n",
       "625447               20                   79     124  \n",
       "334894               17                   20      95  \n",
       "\n",
       "[10000 rows x 8 columns]"
      ]
     },
     "execution_count": 202,
     "metadata": {},
     "output_type": "execute_result"
    }
   ],
   "source": [
    "import pandas as pd\n",
    "import seaborn as sns\n",
    "import numpy as np\n",
    "\n",
    "df = pd.read_csv('./Data/EmployEarnings Data.csv')\n",
    "\n",
    "# A partir de 100 000 0 individus,on sélectionne 400 individus représentatifs\n",
    "df = df.sample(10000)\n",
    "df \n",
    "#df.describe()\n",
    "#df.info()"
   ]
  },
  {
   "cell_type": "code",
   "execution_count": 203,
   "id": "b9e415aa",
   "metadata": {
    "ExecuteTime": {
     "end_time": "2022-09-22T14:12:55.137329Z",
     "start_time": "2022-09-22T14:12:55.058144Z"
    }
   },
   "outputs": [
    {
     "data": {
      "text/plain": [
       "<AxesSubplot: xlabel='industry', ylabel='count'>"
      ]
     },
     "execution_count": 203,
     "metadata": {},
     "output_type": "execute_result"
    },
    {
     "data": {
      "image/png": "[encoded data removed]",
      "text/plain": [
       "<Figure size 640x480 with 1 Axes>"
      ]
     },
     "metadata": {},
     "output_type": "display_data"
    }
   ],
   "source": [
    "#les domaines d'entreprise qu'on a\n",
    "sns.countplot(x=df[\"industry\"])\n"
   ]
  },
  {
   "cell_type": "code",
   "execution_count": 204,
   "id": "079af284",
   "metadata": {
    "ExecuteTime": {
     "end_time": "2022-09-22T14:12:57.168935Z",
     "start_time": "2022-09-22T14:12:57.097818Z"
    }
   },
   "outputs": [
    {
     "data": {
      "text/plain": [
       "<AxesSubplot: xlabel='degree', ylabel='count'>"
      ]
     },
     "execution_count": 204,
     "metadata": {},
     "output_type": "execute_result"
    },
    {
     "data": {
      "image/png": "[encoded data removed]",
      "text/plain": [
       "<Figure size 640x480 with 1 Axes>"
      ]
     },
     "metadata": {},
     "output_type": "display_data"
    }
   ],
   "source": [
    "\n",
    "sns.countplot(data=df, x=\"degree\")\n",
    "#sns.catplot(data=df, x=\"degree\", y=\"jobType\")"
   ]
  },
  {
   "cell_type": "code",
   "execution_count": 205,
   "id": "2a83f6ea",
   "metadata": {
    "ExecuteTime": {
     "end_time": "2022-09-22T14:13:00.399103Z",
     "start_time": "2022-09-22T14:13:00.306671Z"
    }
   },
   "outputs": [
    {
     "data": {
      "text/plain": [
       "<AxesSubplot: xlabel='degree', ylabel='jobType'>"
      ]
     },
     "execution_count": 205,
     "metadata": {},
     "output_type": "execute_result"
    },
    {
     "data": {
      "image/png": "[encoded data removed]",
      "text/plain": [
       "<Figure size 640x480 with 1 Axes>"
      ]
     },
     "metadata": {},
     "output_type": "display_data"
    }
   ],
   "source": [
    "# - Quel sont les postes occupés par rapport au diplôme\n",
    "sns.scatterplot(data=df, x=\"degree\", y=\"jobType\", size_order=\"\")\n",
    "\n",
    "#janitor = concierge"
   ]
  },
  {
   "cell_type": "code",
   "execution_count": 206,
   "id": "d985ff34",
   "metadata": {
    "ExecuteTime": {
     "end_time": "2022-09-22T14:13:10.764879Z",
     "start_time": "2022-09-22T14:13:10.747877Z"
    }
   },
   "outputs": [
    {
     "data": {
      "text/html": [
       "<div>\n",
       "<style scoped>\n",
       "    .dataframe tbody tr th:only-of-type {\n",
       "        vertical-align: middle;\n",
       "    }\n",
       "\n",
       "    .dataframe tbody tr th {\n",
       "        vertical-align: top;\n",
       "    }\n",
       "\n",
       "    .dataframe thead th {\n",
       "        text-align: right;\n",
       "    }\n",
       "</style>\n",
       "<table border=\"1\" class=\"dataframe\">\n",
       "  <thead>\n",
       "    <tr style=\"text-align: right;\">\n",
       "      <th></th>\n",
       "      <th>jobType</th>\n",
       "      <th>degree</th>\n",
       "      <th>major</th>\n",
       "      <th>industry</th>\n",
       "      <th>yearsExperience</th>\n",
       "      <th>milesFromMetropolis</th>\n",
       "      <th>salary</th>\n",
       "    </tr>\n",
       "    <tr>\n",
       "      <th>companyId</th>\n",
       "      <th></th>\n",
       "      <th></th>\n",
       "      <th></th>\n",
       "      <th></th>\n",
       "      <th></th>\n",
       "      <th></th>\n",
       "      <th></th>\n",
       "    </tr>\n",
       "  </thead>\n",
       "  <tbody>\n",
       "    <tr>\n",
       "      <th>COMP0</th>\n",
       "      <td>35</td>\n",
       "      <td>35</td>\n",
       "      <td>35</td>\n",
       "      <td>35</td>\n",
       "      <td>35</td>\n",
       "      <td>35</td>\n",
       "      <td>35</td>\n",
       "    </tr>\n",
       "    <tr>\n",
       "      <th>COMP1</th>\n",
       "      <td>45</td>\n",
       "      <td>45</td>\n",
       "      <td>45</td>\n",
       "      <td>45</td>\n",
       "      <td>45</td>\n",
       "      <td>45</td>\n",
       "      <td>45</td>\n",
       "    </tr>\n",
       "    <tr>\n",
       "      <th>COMP10</th>\n",
       "      <td>34</td>\n",
       "      <td>34</td>\n",
       "      <td>34</td>\n",
       "      <td>34</td>\n",
       "      <td>34</td>\n",
       "      <td>34</td>\n",
       "      <td>34</td>\n",
       "    </tr>\n",
       "    <tr>\n",
       "      <th>COMP11</th>\n",
       "      <td>37</td>\n",
       "      <td>37</td>\n",
       "      <td>37</td>\n",
       "      <td>37</td>\n",
       "      <td>37</td>\n",
       "      <td>37</td>\n",
       "      <td>37</td>\n",
       "    </tr>\n",
       "    <tr>\n",
       "      <th>COMP12</th>\n",
       "      <td>34</td>\n",
       "      <td>34</td>\n",
       "      <td>34</td>\n",
       "      <td>34</td>\n",
       "      <td>34</td>\n",
       "      <td>34</td>\n",
       "      <td>34</td>\n",
       "    </tr>\n",
       "    <tr>\n",
       "      <th>...</th>\n",
       "      <td>...</td>\n",
       "      <td>...</td>\n",
       "      <td>...</td>\n",
       "      <td>...</td>\n",
       "      <td>...</td>\n",
       "      <td>...</td>\n",
       "      <td>...</td>\n",
       "    </tr>\n",
       "    <tr>\n",
       "      <th>COMP61</th>\n",
       "      <td>41</td>\n",
       "      <td>41</td>\n",
       "      <td>41</td>\n",
       "      <td>41</td>\n",
       "      <td>41</td>\n",
       "      <td>41</td>\n",
       "      <td>41</td>\n",
       "    </tr>\n",
       "    <tr>\n",
       "      <th>COMP62</th>\n",
       "      <td>37</td>\n",
       "      <td>37</td>\n",
       "      <td>37</td>\n",
       "      <td>37</td>\n",
       "      <td>37</td>\n",
       "      <td>37</td>\n",
       "      <td>37</td>\n",
       "    </tr>\n",
       "    <tr>\n",
       "      <th>COMP7</th>\n",
       "      <td>40</td>\n",
       "      <td>40</td>\n",
       "      <td>40</td>\n",
       "      <td>40</td>\n",
       "      <td>40</td>\n",
       "      <td>40</td>\n",
       "      <td>40</td>\n",
       "    </tr>\n",
       "    <tr>\n",
       "      <th>COMP8</th>\n",
       "      <td>34</td>\n",
       "      <td>34</td>\n",
       "      <td>34</td>\n",
       "      <td>34</td>\n",
       "      <td>34</td>\n",
       "      <td>34</td>\n",
       "      <td>34</td>\n",
       "    </tr>\n",
       "    <tr>\n",
       "      <th>COMP9</th>\n",
       "      <td>40</td>\n",
       "      <td>40</td>\n",
       "      <td>40</td>\n",
       "      <td>40</td>\n",
       "      <td>40</td>\n",
       "      <td>40</td>\n",
       "      <td>40</td>\n",
       "    </tr>\n",
       "  </tbody>\n",
       "</table>\n",
       "<p>63 rows × 7 columns</p>\n",
       "</div>"
      ],
      "text/plain": [
       "           jobType  degree  major  industry  yearsExperience  \\\n",
       "companyId                                                      \n",
       "COMP0           35      35     35        35               35   \n",
       "COMP1           45      45     45        45               45   \n",
       "COMP10          34      34     34        34               34   \n",
       "COMP11          37      37     37        37               37   \n",
       "COMP12          34      34     34        34               34   \n",
       "...            ...     ...    ...       ...              ...   \n",
       "COMP61          41      41     41        41               41   \n",
       "COMP62          37      37     37        37               37   \n",
       "COMP7           40      40     40        40               40   \n",
       "COMP8           34      34     34        34               34   \n",
       "COMP9           40      40     40        40               40   \n",
       "\n",
       "           milesFromMetropolis  salary  \n",
       "companyId                               \n",
       "COMP0                       35      35  \n",
       "COMP1                       45      45  \n",
       "COMP10                      34      34  \n",
       "COMP11                      37      37  \n",
       "COMP12                      34      34  \n",
       "...                        ...     ...  \n",
       "COMP61                      41      41  \n",
       "COMP62                      37      37  \n",
       "COMP7                       40      40  \n",
       "COMP8                       34      34  \n",
       "COMP9                       40      40  \n",
       "\n",
       "[63 rows x 7 columns]"
      ]
     },
     "execution_count": 206,
     "metadata": {},
     "output_type": "execute_result"
    }
   ],
   "source": [
    "#df[df.degree == \"NONE\"].count()[\"companyId\"]\n",
    "#df[df.degree != \"NONE\"].count()[\"companyId\"]\n"
   ]
  },
  {
   "cell_type": "code",
   "execution_count": 235,
   "id": "0a3a0815",
   "metadata": {
    "ExecuteTime": {
     "end_time": "2022-09-22T14:22:42.131295Z",
     "start_time": "2022-09-22T14:22:42.108071Z"
    }
   },
   "outputs": [
    {
     "data": {
      "text/html": [
       "<div>\n",
       "<style scoped>\n",
       "    .dataframe tbody tr th:only-of-type {\n",
       "        vertical-align: middle;\n",
       "    }\n",
       "\n",
       "    .dataframe tbody tr th {\n",
       "        vertical-align: top;\n",
       "    }\n",
       "\n",
       "    .dataframe thead th {\n",
       "        text-align: right;\n",
       "    }\n",
       "</style>\n",
       "<table border=\"1\" class=\"dataframe\">\n",
       "  <thead>\n",
       "    <tr style=\"text-align: right;\">\n",
       "      <th></th>\n",
       "      <th>jobType</th>\n",
       "      <th>degree</th>\n",
       "      <th>major</th>\n",
       "      <th>industry</th>\n",
       "      <th>yearsExperience</th>\n",
       "      <th>milesFromMetropolis</th>\n",
       "      <th>salary</th>\n",
       "    </tr>\n",
       "    <tr>\n",
       "      <th>companyId</th>\n",
       "      <th></th>\n",
       "      <th></th>\n",
       "      <th></th>\n",
       "      <th></th>\n",
       "      <th></th>\n",
       "      <th></th>\n",
       "      <th></th>\n",
       "    </tr>\n",
       "  </thead>\n",
       "  <tbody>\n",
       "    <tr>\n",
       "      <th>COMP0</th>\n",
       "      <td>127</td>\n",
       "      <td>127</td>\n",
       "      <td>127</td>\n",
       "      <td>127</td>\n",
       "      <td>127</td>\n",
       "      <td>127</td>\n",
       "      <td>127</td>\n",
       "    </tr>\n",
       "    <tr>\n",
       "      <th>COMP1</th>\n",
       "      <td>130</td>\n",
       "      <td>130</td>\n",
       "      <td>130</td>\n",
       "      <td>130</td>\n",
       "      <td>130</td>\n",
       "      <td>130</td>\n",
       "      <td>130</td>\n",
       "    </tr>\n",
       "    <tr>\n",
       "      <th>COMP10</th>\n",
       "      <td>114</td>\n",
       "      <td>114</td>\n",
       "      <td>114</td>\n",
       "      <td>114</td>\n",
       "      <td>114</td>\n",
       "      <td>114</td>\n",
       "      <td>114</td>\n",
       "    </tr>\n",
       "    <tr>\n",
       "      <th>COMP11</th>\n",
       "      <td>119</td>\n",
       "      <td>119</td>\n",
       "      <td>119</td>\n",
       "      <td>119</td>\n",
       "      <td>119</td>\n",
       "      <td>119</td>\n",
       "      <td>119</td>\n",
       "    </tr>\n",
       "    <tr>\n",
       "      <th>COMP12</th>\n",
       "      <td>135</td>\n",
       "      <td>135</td>\n",
       "      <td>135</td>\n",
       "      <td>135</td>\n",
       "      <td>135</td>\n",
       "      <td>135</td>\n",
       "      <td>135</td>\n",
       "    </tr>\n",
       "  </tbody>\n",
       "</table>\n",
       "</div>"
      ],
      "text/plain": [
       "           jobType  degree  major  industry  yearsExperience  \\\n",
       "companyId                                                      \n",
       "COMP0          127     127    127       127              127   \n",
       "COMP1          130     130    130       130              130   \n",
       "COMP10         114     114    114       114              114   \n",
       "COMP11         119     119    119       119              119   \n",
       "COMP12         135     135    135       135              135   \n",
       "\n",
       "           milesFromMetropolis  salary  \n",
       "companyId                               \n",
       "COMP0                      127     127  \n",
       "COMP1                      130     130  \n",
       "COMP10                     114     114  \n",
       "COMP11                     119     119  \n",
       "COMP12                     135     135  "
      ]
     },
     "execution_count": 235,
     "metadata": {},
     "output_type": "execute_result"
    }
   ],
   "source": [
    "undiplomeEmployment = df[df.degree == \"NONE\"].groupby('companyId').count()\n",
    "diplomeEmployment = df[df.degree != \"NONE\"].groupby('companyId').count()\n",
    "diplomeEmployment.head()"
   ]
  },
  {
   "cell_type": "code",
   "execution_count": 262,
   "id": "902b0184",
   "metadata": {
    "ExecuteTime": {
     "end_time": "2022-09-22T14:48:29.413419Z",
     "start_time": "2022-09-22T14:48:29.328213Z"
    }
   },
   "outputs": [
    {
     "data": {
      "text/plain": [
       "<AxesSubplot: >"
      ]
     },
     "execution_count": 262,
     "metadata": {},
     "output_type": "execute_result"
    },
    {
     "data": {
      "image/png": "[encoded data removed]",
      "text/plain": [
       "<Figure size 640x480 with 1 Axes>"
      ]
     },
     "metadata": {},
     "output_type": "display_data"
    }
   ],
   "source": [
    "#df.groupby([\"companyId\",\"degree\", \"jobType\"]).count()\n",
    "#sns.relplot(data=df,x=\"companyId\", y=\"degree\", )\n",
    "#df[df.degree == \"NONE\"].count()\n",
    "\n",
    "salaryByGroupAndDiplome = df.groupby([\"industry\",\"degree\"]).size().unstack().plot.box()\n",
    "salaryByGroupAndDiplome\n",
    "#sns.catplot\n",
    "#sns.relplot(x=\"LotArea\", y=\"SalePrice\", data=salaryByGroupAndDiplome, height=12)\n",
    "#sns.catplot(x=\"TotalWorkingYears\", y=\"Attrition\", data = df, kind= \"box\", height=7)\n"
   ]
  }
 ],
 "metadata": {
  "hide_input": false,
  "kernelspec": {
   "display_name": "Python 3 (ipykernel)",
   "language": "python",
   "name": "python3"
  },
  "language_info": {
   "codemirror_mode": {
    "name": "ipython",
    "version": 3
   },
   "file_extension": ".py",
   "mimetype": "text/x-python",
   "name": "python",
   "nbconvert_exporter": "python",
   "pygments_lexer": "ipython3",
   "version": "3.10.6"
  },
  "toc": {
   "base_numbering": 1,
   "nav_menu": {},
   "number_sections": true,
   "sideBar": true,
   "skip_h1_title": false,
   "title_cell": "Table of Contents",
   "title_sidebar": "Contents",
   "toc_cell": false,
   "toc_position": {},
   "toc_section_display": true,
   "toc_window_display": false
  },
  "varInspector": {
   "cols": {
    "lenName": 16,
    "lenType": 16,
    "lenVar": 40
   },
   "kernels_config": {
    "python": {
     "delete_cmd_postfix": "",
     "delete_cmd_prefix": "del ",
     "library": "var_list.py",
     "varRefreshCmd": "print(var_dic_list())"
    },
    "r": {
     "delete_cmd_postfix": ") ",
     "delete_cmd_prefix": "rm(",
     "library": "var_list.r",
     "varRefreshCmd": "cat(var_dic_list()) "
    }
   },
   "types_to_exclude": [
    "module",
    "function",
    "builtin_function_or_method",
    "instance",
    "_Feature"
   ],
   "window_display": false
  }
 },
 "nbformat": 4,
 "nbformat_minor": 5
}
