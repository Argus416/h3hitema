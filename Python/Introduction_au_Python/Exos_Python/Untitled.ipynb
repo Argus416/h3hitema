{
 "cells": [
  {
   "cell_type": "markdown",
   "id": "bbffd15c",
   "metadata": {},
   "source": [
    "# EXO 1 "
   ]
  },
  {
   "cell_type": "code",
   "execution_count": 4,
   "id": "fc16ffce",
   "metadata": {},
   "outputs": [
    {
     "data": {
      "text/plain": [
       "[0, 1, 2, 3, 4, 5, 6, 7, 8, 9]"
      ]
     },
     "execution_count": 4,
     "metadata": {},
     "output_type": "execute_result"
    }
   ],
   "source": [
    "array = [x for x in range(10)]; array"
   ]
  },
  {
   "cell_type": "code",
   "execution_count": 6,
   "id": "b03587d0",
   "metadata": {},
   "outputs": [
    {
     "data": {
      "text/plain": [
       "[0, 1, 4, 9, 16, 25, 36, 49, 64, 81]"
      ]
     },
     "execution_count": 6,
     "metadata": {},
     "output_type": "execute_result"
    }
   ],
   "source": [
    "def dubleValus(array):\n",
    "    result= [];\n",
    "    for i in array :\n",
    "        result.append(i * i)\n",
    "    \n",
    "    return result\n",
    "\n",
    "dubleValus(array)\n",
    "    "
   ]
  },
  {
   "cell_type": "code",
   "execution_count": null,
   "id": "b98f4863",
   "metadata": {},
   "outputs": [],
   "source": []
  }
 ],
 "metadata": {
  "kernelspec": {
   "display_name": "Python 3 (ipykernel)",
   "language": "python",
   "name": "python3"
  },
  "language_info": {
   "codemirror_mode": {
    "name": "ipython",
    "version": 3
   },
   "file_extension": ".py",
   "mimetype": "text/x-python",
   "name": "python",
   "nbconvert_exporter": "python",
   "pygments_lexer": "ipython3",
   "version": "3.10.6"
  }
 },
 "nbformat": 4,
 "nbformat_minor": 5
}
