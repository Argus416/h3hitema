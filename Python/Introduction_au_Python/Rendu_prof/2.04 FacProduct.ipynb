{
 "cells": [
  {
   "cell_type": "markdown",
   "id": "e39cf2a0",
   "metadata": {},
   "source": [
    "# FacProduct"
   ]
  },
  {
   "cell_type": "markdown",
   "id": "4c879e50",
   "metadata": {},
   "source": [
    "Toujours à partir de deux tableaux précédemment saisis, écrire un algorithme qui calcule le ’FacProduct’ des deux tableaux. Pour calculer le ’FacProduct’, il faut multiplier deux à deux les éléments des tableaux et additionner le tout (le résultat final doit donc est un réel).\n"
   ]
  },
  {
   "cell_type": "code",
   "execution_count": 1,
   "id": "4f1cdad5",
   "metadata": {},
   "outputs": [
    {
     "name": "stdout",
     "output_type": "stream",
     "text": [
      "225\n"
     ]
    }
   ],
   "source": [
    "numbers1 = [ 1, 2, 3, 4, 5 ]\n",
    "numbers2 = [ 5, 4, 3, 2, 1 ]\n",
    "result = 0\n",
    "\n",
    "for i in numbers1:\n",
    "    for j in numbers2:\n",
    "        result += i * j\n",
    "\n",
    "print (result)    \n"
   ]
  },
  {
   "cell_type": "markdown",
   "id": "2e283de6",
   "metadata": {},
   "source": [
    "<b>Complexité quadratique O(n ^ 2) puisque on a une boucle dans une boucle</b>"
   ]
  },
  {
   "cell_type": "code",
   "execution_count": null,
   "id": "df11ffb7",
   "metadata": {},
   "outputs": [],
   "source": []
  }
 ],
 "metadata": {
  "kernelspec": {
   "display_name": "Python 3 (ipykernel)",
   "language": "python",
   "name": "python3"
  },
  "language_info": {
   "codemirror_mode": {
    "name": "ipython",
    "version": 3
   },
   "file_extension": ".py",
   "mimetype": "text/x-python",
   "name": "python",
   "nbconvert_exporter": "python",
   "pygments_lexer": "ipython3",
   "version": "3.10.6"
  }
 },
 "nbformat": 4,
 "nbformat_minor": 5
}
