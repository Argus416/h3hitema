{
 "cells": [
  {
   "cell_type": "markdown",
   "id": "3940284f",
   "metadata": {},
   "source": [
    "# EXO 2.1\n"
   ]
  },
  {
   "cell_type": "markdown",
   "id": "bc36d1ae",
   "metadata": {},
   "source": [
    "## Condition et produit "
   ]
  },
  {
   "cell_type": "markdown",
   "id": "c9796bae",
   "metadata": {},
   "source": [
    "Ecrire un algorithme qui demande deux nombres à l’utilisateur et l’informe en suite si leur produit est négatif ou positif (on laisse de côté le cas où le produit est nul). Attention toute fois : on ne doit pas calculer le produit des deux nombres."
   ]
  },
  {
   "cell_type": "code",
   "execution_count": 1,
   "id": "c4503174",
   "metadata": {},
   "outputs": [
    {
     "name": "stdout",
     "output_type": "stream",
     "text": [
      "First number: 3\n",
      "Second number: 4\n",
      "Number 3 is positive\n",
      "Number 4 is positive\n"
     ]
    }
   ],
   "source": [
    "num1 = input('First number: ')\n",
    "num2 = input('Second number: ')\n",
    "\n",
    "def isPositive(number) : \n",
    "    number = int(number)\n",
    "    text = \"Number {} is positive\".format(number)\n",
    "    if(number < 0):\n",
    "        text = \"Number {} is negative\".format(number)\n",
    "    print(text)\n",
    "\n",
    "\n",
    "def isNumber(number) :\n",
    "    try :\n",
    "        int(number)\n",
    "        return True\n",
    "    \n",
    "    except ValueError:\n",
    "        return False\n",
    "    \n",
    "while (isNumber(num1) == False) : \n",
    "    print('First number invalide')\n",
    "    num1 = input('First number: ')\n",
    "\n",
    "while (isNumber(num2) == False) : \n",
    "    print('Second number invalide')\n",
    "    num2 = input('Second number: ')\n",
    "    \n",
    "isPositive(num1)\n",
    "isPositive(num2)\n",
    "\n"
   ]
  },
  {
   "cell_type": "code",
   "execution_count": null,
   "id": "b1dc1220",
   "metadata": {},
   "outputs": [],
   "source": []
  },
  {
   "cell_type": "code",
   "execution_count": null,
   "id": "4777f900",
   "metadata": {},
   "outputs": [],
   "source": []
  }
 ],
 "metadata": {
  "kernelspec": {
   "display_name": "Python 3 (ipykernel)",
   "language": "python",
   "name": "python3"
  },
  "language_info": {
   "codemirror_mode": {
    "name": "ipython",
    "version": 3
   },
   "file_extension": ".py",
   "mimetype": "text/x-python",
   "name": "python",
   "nbconvert_exporter": "python",
   "pygments_lexer": "ipython3",
   "version": "3.10.6"
  }
 },
 "nbformat": 4,
 "nbformat_minor": 5
}
