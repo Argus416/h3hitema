{
 "cells": [
  {
   "cell_type": "markdown",
   "id": "89930732",
   "metadata": {},
   "source": [
    "# Trie"
   ]
  },
  {
   "cell_type": "markdown",
   "id": "fcd6cdf2",
   "metadata": {},
   "source": [
    "Ecrire un algorithme permettant de trier un tableau de taille n."
   ]
  },
  {
   "cell_type": "code",
   "execution_count": 2,
   "id": "6634a5dd",
   "metadata": {},
   "outputs": [
    {
     "name": "stdout",
     "output_type": "stream",
     "text": [
      "[0, 4, 5, 6, 6, 6, 7, 7, 7, 8, 9, 9]\n"
     ]
    }
   ],
   "source": [
    "array= [ 6, 4, 5, 6, 7, 6, 7, 8, 9, 7, 9, 0 ]\n",
    "\n",
    "def isSuperior(nbOne, nbTwo):\n",
    "    if(nbOne < nbTwo):\n",
    "        return True\n",
    "    return False\n",
    "\n",
    "\n",
    "def sort(array):\n",
    "    sortedArray = []\n",
    "    if(len(array) == 0):\n",
    "        return sortedArray\n",
    "    else: \n",
    "        smallerNumber = array[0]\n",
    "        indexSmallerNumber = 0\n",
    "        \n",
    "        for i in range(len(array)) : \n",
    "            if(smallerNumber > array[i]):\n",
    "                smallerNumber = array[i]\n",
    "                indexSmallerNumber = i\n",
    "\n",
    "        sortedArray.append(smallerNumber)\n",
    "        del array[indexSmallerNumber]\n",
    "        \n",
    "        return sortedArray + sort(array)\n",
    "            \n",
    "print(sort(array))\n",
    "\n"
   ]
  },
  {
   "cell_type": "code",
   "execution_count": null,
   "id": "7a7059d2",
   "metadata": {},
   "outputs": [],
   "source": []
  }
 ],
 "metadata": {
  "kernelspec": {
   "display_name": "Python 3 (ipykernel)",
   "language": "python",
   "name": "python3"
  },
  "language_info": {
   "codemirror_mode": {
    "name": "ipython",
    "version": 3
   },
   "file_extension": ".py",
   "mimetype": "text/x-python",
   "name": "python",
   "nbconvert_exporter": "python",
   "pygments_lexer": "ipython3",
   "version": "3.10.6"
  }
 },
 "nbformat": 4,
 "nbformat_minor": 5
}
