{
 "cells": [
  {
   "cell_type": "markdown",
   "id": "17721add",
   "metadata": {},
   "source": [
    "# EXO 2.1"
   ]
  },
  {
   "cell_type": "code",
   "execution_count": 1,
   "id": "df61ba44",
   "metadata": {},
   "outputs": [
    {
     "name": "stdout",
     "output_type": "stream",
     "text": [
      "First number: OJ\n",
      "Second number: 98\n"
     ]
    }
   ],
   "source": [
    "num1 = input('First number: ')\n",
    "num2 = input('Second number: ')"
   ]
  },
  {
   "cell_type": "code",
   "execution_count": 2,
   "id": "106ced7f",
   "metadata": {},
   "outputs": [],
   "source": [
    "def isPositive(number) : \n",
    "    number = int(number)\n",
    "    text = \"Number is positive\"\n",
    "    if(number < 0):\n",
    "        text = \"Number is negative\"  \n",
    "    print(text)\n"
   ]
  },
  {
   "cell_type": "code",
   "execution_count": 3,
   "id": "698f221d",
   "metadata": {},
   "outputs": [],
   "source": [
    "def isNumber(number) :\n",
    "    try :\n",
    "        int(number)\n",
    "        return True\n",
    "    \n",
    "    except ValueError:\n",
    "        return False"
   ]
  },
  {
   "cell_type": "code",
   "execution_count": 4,
   "id": "e8aca27a",
   "metadata": {},
   "outputs": [
    {
     "name": "stdout",
     "output_type": "stream",
     "text": [
      "First number invalide\n",
      "First number: jbjk\n",
      "First number invalide\n",
      "First number: jj\n",
      "First number invalide\n",
      "First number: -78\n"
     ]
    }
   ],
   "source": [
    "while (isNumber(num1) == False) : \n",
    "    print('First number invalide')\n",
    "    num1 = input('First number: ')\n",
    "\n",
    "while (isNumber(num2) == False) : \n",
    "    print('Second number invalide')\n",
    "    num2 = input('Second number: ')\n"
   ]
  },
  {
   "cell_type": "code",
   "execution_count": 5,
   "id": "8aa7a2b6",
   "metadata": {},
   "outputs": [
    {
     "name": "stdout",
     "output_type": "stream",
     "text": [
      "Number is negative\n",
      "Number is positive\n"
     ]
    }
   ],
   "source": [
    "isPositive(num1)\n",
    "isPositive(num2)"
   ]
  },
  {
   "cell_type": "code",
   "execution_count": null,
   "id": "2587bc6d",
   "metadata": {},
   "outputs": [],
   "source": []
  }
 ],
 "metadata": {
  "kernelspec": {
   "display_name": "Python 3 (ipykernel)",
   "language": "python",
   "name": "python3"
  },
  "language_info": {
   "codemirror_mode": {
    "name": "ipython",
    "version": 3
   },
   "file_extension": ".py",
   "mimetype": "text/x-python",
   "name": "python",
   "nbconvert_exporter": "python",
   "pygments_lexer": "ipython3",
   "version": "3.10.6"
  }
 },
 "nbformat": 4,
 "nbformat_minor": 5
}
